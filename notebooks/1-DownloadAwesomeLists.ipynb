{
 "cells": [
  {
   "cell_type": "markdown",
   "metadata": {},
   "source": [
    "# Download Awesome Lists\n",
    "\n",
    "Currently unused notebook reserved for more complex download and ingress of raw data.\n",
    "\n",
    "NOT IN USE."
   ]
  }
 ],
 "metadata": {
  "language_info": {
   "name": "python"
  }
 },
 "nbformat": 4,
 "nbformat_minor": 2
}
