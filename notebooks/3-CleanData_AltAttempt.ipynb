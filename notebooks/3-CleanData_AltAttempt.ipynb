{
 "cells": [
  {
   "cell_type": "markdown",
   "metadata": {},
   "source": [
    "# Clean data\n",
    "\n",
    "In this notebook, we are cleaning the data and converting it into AlkgieV1 Entities.\n",
    "\n",
    "This step is important in generating ids and further processing the data into a coherent set of domain specific entities that the Alkgie project can use."
   ]
  },
  {
   "cell_type": "markdown",
   "metadata": {},
   "source": [
    "## Flatten the data"
   ]
  },
  {
   "cell_type": "code",
   "execution_count": null,
   "metadata": {
    "dotnet_interactive": {
     "language": "fsharp"
    },
    "polyglot_notebook": {
     "kernelName": "fsharp"
    },
    "vscode": {
     "languageId": "polyglot-notebook"
    }
   },
   "outputs": [],
   "source": [
    "#r \"nuget:FSharp.Data\"\n",
    "\n",
    "open FSharp.Data\n",
    "type ScrappedData = JsonProvider<\"../data/scrapped/scrapped-dataset.json\">\n",
    "let datasets = ScrappedData.Load(\"../data/scrapped/scrapped-dataset.json\")\n",
    "\n",
    "type FlattenedData = {\n",
    "    Link: Option<string>\n",
    "    Name: Option<string>\n",
    "    Description: string\n",
    "    Headers: string[]\n",
    "    AwesomeList: string\n",
    "}\n",
    "\n",
    "let flattenedData = \n",
    "    datasets\n",
    "    |> Seq.collect (fun dataset ->\n",
    "        dataset.Data\n",
    "        |> Seq.map (fun item -> \n",
    "            {\n",
    "                Link = item.Link\n",
    "                Name = item.Name\n",
    "                Description = item.Description\n",
    "                Headers = item.Headers\n",
    "                AwesomeList = dataset.Filename\n",
    "            }\n",
    "        )\n",
    "    )\n",
    "    |> Seq.toList\n",
    "\n",
    "open System.IO\n",
    "open System.Text.Json\n",
    "let flattenedDataAsJson = JsonSerializer.Serialize(flattenedData);\n"
   ]
  },
  {
   "cell_type": "code",
   "execution_count": 6,
   "metadata": {
    "dotnet_interactive": {
     "language": "csharp"
    },
    "polyglot_notebook": {
     "kernelName": "csharp"
    },
    "vscode": {
     "languageId": "polyglot-notebook"
    }
   },
   "outputs": [
    {
     "data": {
      "text/html": [
       "<div><div></div><div></div><div><strong>Installed Packages</strong><ul><li><span>Newtonsoft.Json, 13.0.3</span></li></ul></div></div>"
      ]
     },
     "metadata": {},
     "output_type": "display_data"
    },
    {
     "data": {
      "text/plain": [
       "Source Entries"
      ]
     },
     "metadata": {},
     "output_type": "display_data"
    },
    {
     "data": {
      "text/html": [
       "<table><thead><tr><th><i>index</i></th><th>value</th></tr></thead><tbody><tr><td>0</td><td><details class=\"dni-treeview\"><summary><span class=\"dni-code-hint\"><code>{ Id = 4ea73aef-4499-4556-aa36-a63fa392827a, SourceName = awesome-knowledge-graph.md, EntityNameAlias = Graph Databases, Description = Graph Databases, Url = #graph-databases, Relations = Newtonsoft.Json.Linq.Extensions+&lt;Convert&gt;d__14`2[Newtonsoft.Json.Linq.JToken,System.String] }</code></span></summary><div><table><thead><tr></tr></thead><tbody><tr><td>Id</td><td><div class=\"dni-plaintext\"><pre>4ea73aef-4499-4556-aa36-a63fa392827a</pre></div></td></tr><tr><td>SourceName</td><td><div class=\"dni-plaintext\"><pre>awesome-knowledge-graph.md</pre></div></td></tr><tr><td>EntityNameAlias</td><td><div class=\"dni-plaintext\"><pre>Graph Databases</pre></div></td></tr><tr><td>Description</td><td><div class=\"dni-plaintext\"><pre>Graph Databases</pre></div></td></tr><tr><td>Url</td><td><div class=\"dni-plaintext\"><pre>#graph-databases</pre></div></td></tr><tr><td>Relations</td><td><div class=\"dni-plaintext\"><pre>[ Contents, Awesome Knowledge Graph  ]</pre></div></td></tr></tbody></table></div></details></td></tr></tbody></table><style>\r\n",
       ".dni-code-hint {\r\n",
       "    font-style: italic;\r\n",
       "    overflow: hidden;\r\n",
       "    white-space: nowrap;\r\n",
       "}\r\n",
       ".dni-treeview {\r\n",
       "    white-space: nowrap;\r\n",
       "}\r\n",
       ".dni-treeview td {\r\n",
       "    vertical-align: top;\r\n",
       "    text-align: start;\r\n",
       "}\r\n",
       "details.dni-treeview {\r\n",
       "    padding-left: 1em;\r\n",
       "}\r\n",
       "table td {\r\n",
       "    text-align: start;\r\n",
       "}\r\n",
       "table tr { \r\n",
       "    vertical-align: top; \r\n",
       "    margin: 0em 0px;\r\n",
       "}\r\n",
       "table tr td pre \r\n",
       "{ \r\n",
       "    vertical-align: top !important; \r\n",
       "    margin: 0em 0px !important;\r\n",
       "} \r\n",
       "table th {\r\n",
       "    text-align: start;\r\n",
       "}\r\n",
       "</style>"
      ]
     },
     "metadata": {},
     "output_type": "display_data"
    },
    {
     "data": {
      "text/plain": [
       "Header Source Entries"
      ]
     },
     "metadata": {},
     "output_type": "display_data"
    },
    {
     "data": {
      "text/html": [
       "<table><thead><tr><th><i>index</i></th><th>value</th></tr></thead><tbody><tr><td>0</td><td><details class=\"dni-treeview\"><summary><span class=\"dni-code-hint\"><code>{ Id = e0501a17-e196-489e-9a07-43f8c367c078, SourceName = awesome-knowledge-graph.md, EntityNameAlias = Graph Databases, Description = , Url = , Relations = System.Linq.Enumerable+EnumerablePartition`1[System.String] }</code></span></summary><div><table><thead><tr></tr></thead><tbody><tr><td>Id</td><td><div class=\"dni-plaintext\"><pre>e0501a17-e196-489e-9a07-43f8c367c078</pre></div></td></tr><tr><td>SourceName</td><td><div class=\"dni-plaintext\"><pre>awesome-knowledge-graph.md</pre></div></td></tr><tr><td>EntityNameAlias</td><td><div class=\"dni-plaintext\"><pre>Graph Databases</pre></div></td></tr><tr><td>Description</td><td><div class=\"dni-plaintext\"><pre></pre></div></td></tr><tr><td>Url</td><td><div class=\"dni-plaintext\"><pre></pre></div></td></tr><tr><td>Relations</td><td><div class=\"dni-plaintext\"><pre>[ Graph Databases, Infrastructure, Awesome Knowledge Graph  ]</pre></div></td></tr></tbody></table></div></details></td></tr></tbody></table><style>\r\n",
       ".dni-code-hint {\r\n",
       "    font-style: italic;\r\n",
       "    overflow: hidden;\r\n",
       "    white-space: nowrap;\r\n",
       "}\r\n",
       ".dni-treeview {\r\n",
       "    white-space: nowrap;\r\n",
       "}\r\n",
       ".dni-treeview td {\r\n",
       "    vertical-align: top;\r\n",
       "    text-align: start;\r\n",
       "}\r\n",
       "details.dni-treeview {\r\n",
       "    padding-left: 1em;\r\n",
       "}\r\n",
       "table td {\r\n",
       "    text-align: start;\r\n",
       "}\r\n",
       "table tr { \r\n",
       "    vertical-align: top; \r\n",
       "    margin: 0em 0px;\r\n",
       "}\r\n",
       "table tr td pre \r\n",
       "{ \r\n",
       "    vertical-align: top !important; \r\n",
       "    margin: 0em 0px !important;\r\n",
       "} \r\n",
       "table th {\r\n",
       "    text-align: start;\r\n",
       "}\r\n",
       "</style>"
      ]
     },
     "metadata": {},
     "output_type": "display_data"
    },
    {
     "data": {
      "text/html": [
       "<table><thead><tr><th><i>index</i></th><th>value</th></tr></thead><tbody><tr><td>0</td><td><details class=\"dni-treeview\"><summary><span class=\"dni-code-hint\"><code>{ Id = febb655e-2dce-43f9-8c15-30b84223e291, SourceName = awesome-knowledge-graph.md, EntityNameAlias = Infrastructure, Description = , Url = , Relations = System.Linq.Enumerable+EnumerablePartition`1[System.String] }</code></span></summary><div><table><thead><tr></tr></thead><tbody><tr><td>Id</td><td><div class=\"dni-plaintext\"><pre>febb655e-2dce-43f9-8c15-30b84223e291</pre></div></td></tr><tr><td>SourceName</td><td><div class=\"dni-plaintext\"><pre>awesome-knowledge-graph.md</pre></div></td></tr><tr><td>EntityNameAlias</td><td><div class=\"dni-plaintext\"><pre>Infrastructure</pre></div></td></tr><tr><td>Description</td><td><div class=\"dni-plaintext\"><pre></pre></div></td></tr><tr><td>Url</td><td><div class=\"dni-plaintext\"><pre></pre></div></td></tr><tr><td>Relations</td><td><div class=\"dni-plaintext\"><pre>[ Infrastructure, Awesome Knowledge Graph  ]</pre></div></td></tr></tbody></table></div></details></td></tr></tbody></table><style>\r\n",
       ".dni-code-hint {\r\n",
       "    font-style: italic;\r\n",
       "    overflow: hidden;\r\n",
       "    white-space: nowrap;\r\n",
       "}\r\n",
       ".dni-treeview {\r\n",
       "    white-space: nowrap;\r\n",
       "}\r\n",
       ".dni-treeview td {\r\n",
       "    vertical-align: top;\r\n",
       "    text-align: start;\r\n",
       "}\r\n",
       "details.dni-treeview {\r\n",
       "    padding-left: 1em;\r\n",
       "}\r\n",
       "table td {\r\n",
       "    text-align: start;\r\n",
       "}\r\n",
       "table tr { \r\n",
       "    vertical-align: top; \r\n",
       "    margin: 0em 0px;\r\n",
       "}\r\n",
       "table tr td pre \r\n",
       "{ \r\n",
       "    vertical-align: top !important; \r\n",
       "    margin: 0em 0px !important;\r\n",
       "} \r\n",
       "table th {\r\n",
       "    text-align: start;\r\n",
       "}\r\n",
       "</style>"
      ]
     },
     "metadata": {},
     "output_type": "display_data"
    },
    {
     "data": {
      "text/plain": [
       "Complete Source Entries"
      ]
     },
     "metadata": {},
     "output_type": "display_data"
    },
    {
     "ename": "Error",
     "evalue": "System.NullReferenceException: Object reference not set to an instance of an object.\r\n   at Submission#9.<>c.<<Initialize>>b__0_13(<>f__AnonymousType0#6`2 <>h__TransparentIdentifier0, <>f__AnonymousType0#2`6 hses)\r\n   at System.Linq.Enumerable.SelectManyIterator[TSource,TCollection,TResult](IEnumerable`1 source, Func`2 collectionSelector, Func`3 resultSelector)+MoveNext()\r\n   at System.Linq.Enumerable.WhereEnumerableIterator`1.MoveNext()\r\n   at System.Linq.Enumerable.SelectIterator[TSource,TResult](IEnumerable`1 source, Func`3 selector)+MoveNext()\r\n   at Microsoft.DotNet.Interactive.Formatting.EnumerableExtensions.TakeAndCountRemaining[T](IEnumerable`1 source, Int32 count, Boolean forceCountRemainder) in D:\\a\\_work\\1\\s\\src\\Microsoft.DotNet.Interactive.Formatting\\EnumerableExtensions.cs:line 23\r\n   at Microsoft.DotNet.Interactive.Formatting.HtmlFormatter`1.<CreateTreeViewFormatterForAnyEnumerable>g__BuildTable|7_4(T source, FormatContext context, Func`2 getKeys, Func`2 getValues, Boolean summarize) in D:\\a\\_work\\1\\s\\src\\Microsoft.DotNet.Interactive.Formatting\\HtmlFormatter{T}.cs:line 106\r\n   at Microsoft.DotNet.Interactive.Formatting.HtmlFormatter`1.<>c__DisplayClass7_0.<CreateTreeViewFormatterForAnyEnumerable>b__3(T value, FormatContext context) in D:\\a\\_work\\1\\s\\src\\Microsoft.DotNet.Interactive.Formatting\\HtmlFormatter{T}.cs:line 85\r\n   at Microsoft.DotNet.Interactive.Formatting.HtmlFormatter`1.Format(T value, FormatContext context) in D:\\a\\_work\\1\\s\\src\\Microsoft.DotNet.Interactive.Formatting\\HtmlFormatter{T}.cs:line 54\r\n   at Microsoft.DotNet.Interactive.Formatting.HtmlFormatter.<>c.<.cctor>b__0_14(Object value, FormatContext context) in D:\\a\\_work\\1\\s\\src\\Microsoft.DotNet.Interactive.Formatting\\HtmlFormatter.cs:line 225\r\n   at Microsoft.DotNet.Interactive.Formatting.HtmlFormatter`1.Format(T value, FormatContext context) in D:\\a\\_work\\1\\s\\src\\Microsoft.DotNet.Interactive.Formatting\\HtmlFormatter{T}.cs:line 54\r\n   at Microsoft.DotNet.Interactive.Formatting.Formatter`1.FormatTo(T obj, FormatContext context, String mimeType) in D:\\a\\_work\\1\\s\\src\\Microsoft.DotNet.Interactive.Formatting\\Formatter{T}.cs:line 68\r\n   at Microsoft.DotNet.Interactive.Formatting.Formatter.ToDisplayString(Object obj, String mimeType) in D:\\a\\_work\\1\\s\\src\\Microsoft.DotNet.Interactive.Formatting\\Formatter.cs:line 277\r\n   at Microsoft.DotNet.Interactive.FormattedValue.<>c__DisplayClass12_0.<CreateManyFromObject>b__0(String mimeType) in D:\\a\\_work\\1\\s\\src\\Microsoft.DotNet.Interactive\\FormattedValue.cs:line 49\r\n   at System.Linq.Enumerable.SelectArrayIterator`2.Fill(ReadOnlySpan`1 source, Span`1 destination, Func`2 func)\r\n   at System.Linq.Enumerable.SelectArrayIterator`2.ToArray()\r\n   at Microsoft.DotNet.Interactive.FormattedValue.CreateManyFromObject(Object value, String[] mimeTypes) in D:\\a\\_work\\1\\s\\src\\Microsoft.DotNet.Interactive\\FormattedValue.cs:line 47\r\n   at Microsoft.DotNet.Interactive.KernelInvocationContextExtensions.Display(KernelInvocationContext context, Object value, String[] mimeTypes) in D:\\a\\_work\\1\\s\\src\\Microsoft.DotNet.Interactive\\KernelInvocationContextExtensions.cs:line 22\r\n   at System.DisplayExtensions.Display(Object value, String[] mimeTypes) in D:\\a\\_work\\1\\s\\src\\Microsoft.DotNet.Interactive\\DisplayExtensions.cs:line 23\r\n   at Microsoft.DotNet.Interactive.Kernel.display(Object value, String[] mimeTypes) in D:\\a\\_work\\1\\s\\src\\Microsoft.DotNet.Interactive\\Kernel.Static.cs:line 30\r\n   at Submission#9.<<Initialize>>d__0.MoveNext()\r\n--- End of stack trace from previous location ---\r\n   at Microsoft.CodeAnalysis.Scripting.ScriptExecutionState.RunSubmissionsAsync[TResult](ImmutableArray`1 precedingExecutors, Func`2 currentExecutor, StrongBox`1 exceptionHolderOpt, Func`2 catchExceptionOpt, CancellationToken cancellationToken)",
     "output_type": "error",
     "traceback": [
      "System.NullReferenceException: Object reference not set to an instance of an object.\r\n",
      "   at Submission#9.<>c.<<Initialize>>b__0_13(<>f__AnonymousType0#6`2 <>h__TransparentIdentifier0, <>f__AnonymousType0#2`6 hses)\r\n",
      "   at System.Linq.Enumerable.SelectManyIterator[TSource,TCollection,TResult](IEnumerable`1 source, Func`2 collectionSelector, Func`3 resultSelector)+MoveNext()\r\n",
      "   at System.Linq.Enumerable.WhereEnumerableIterator`1.MoveNext()\r\n",
      "   at System.Linq.Enumerable.SelectIterator[TSource,TResult](IEnumerable`1 source, Func`3 selector)+MoveNext()\r\n",
      "   at Microsoft.DotNet.Interactive.Formatting.EnumerableExtensions.TakeAndCountRemaining[T](IEnumerable`1 source, Int32 count, Boolean forceCountRemainder) in D:\\a\\_work\\1\\s\\src\\Microsoft.DotNet.Interactive.Formatting\\EnumerableExtensions.cs:line 23\r\n",
      "   at Microsoft.DotNet.Interactive.Formatting.HtmlFormatter`1.<CreateTreeViewFormatterForAnyEnumerable>g__BuildTable|7_4(T source, FormatContext context, Func`2 getKeys, Func`2 getValues, Boolean summarize) in D:\\a\\_work\\1\\s\\src\\Microsoft.DotNet.Interactive.Formatting\\HtmlFormatter{T}.cs:line 106\r\n",
      "   at Microsoft.DotNet.Interactive.Formatting.HtmlFormatter`1.<>c__DisplayClass7_0.<CreateTreeViewFormatterForAnyEnumerable>b__3(T value, FormatContext context) in D:\\a\\_work\\1\\s\\src\\Microsoft.DotNet.Interactive.Formatting\\HtmlFormatter{T}.cs:line 85\r\n",
      "   at Microsoft.DotNet.Interactive.Formatting.HtmlFormatter`1.Format(T value, FormatContext context) in D:\\a\\_work\\1\\s\\src\\Microsoft.DotNet.Interactive.Formatting\\HtmlFormatter{T}.cs:line 54\r\n",
      "   at Microsoft.DotNet.Interactive.Formatting.HtmlFormatter.<>c.<.cctor>b__0_14(Object value, FormatContext context) in D:\\a\\_work\\1\\s\\src\\Microsoft.DotNet.Interactive.Formatting\\HtmlFormatter.cs:line 225\r\n",
      "   at Microsoft.DotNet.Interactive.Formatting.HtmlFormatter`1.Format(T value, FormatContext context) in D:\\a\\_work\\1\\s\\src\\Microsoft.DotNet.Interactive.Formatting\\HtmlFormatter{T}.cs:line 54\r\n",
      "   at Microsoft.DotNet.Interactive.Formatting.Formatter`1.FormatTo(T obj, FormatContext context, String mimeType) in D:\\a\\_work\\1\\s\\src\\Microsoft.DotNet.Interactive.Formatting\\Formatter{T}.cs:line 68\r\n",
      "   at Microsoft.DotNet.Interactive.Formatting.Formatter.ToDisplayString(Object obj, String mimeType) in D:\\a\\_work\\1\\s\\src\\Microsoft.DotNet.Interactive.Formatting\\Formatter.cs:line 277\r\n",
      "   at Microsoft.DotNet.Interactive.FormattedValue.<>c__DisplayClass12_0.<CreateManyFromObject>b__0(String mimeType) in D:\\a\\_work\\1\\s\\src\\Microsoft.DotNet.Interactive\\FormattedValue.cs:line 49\r\n",
      "   at System.Linq.Enumerable.SelectArrayIterator`2.Fill(ReadOnlySpan`1 source, Span`1 destination, Func`2 func)\r\n",
      "   at System.Linq.Enumerable.SelectArrayIterator`2.ToArray()\r\n",
      "   at Microsoft.DotNet.Interactive.FormattedValue.CreateManyFromObject(Object value, String[] mimeTypes) in D:\\a\\_work\\1\\s\\src\\Microsoft.DotNet.Interactive\\FormattedValue.cs:line 47\r\n",
      "   at Microsoft.DotNet.Interactive.KernelInvocationContextExtensions.Display(KernelInvocationContext context, Object value, String[] mimeTypes) in D:\\a\\_work\\1\\s\\src\\Microsoft.DotNet.Interactive\\KernelInvocationContextExtensions.cs:line 22\r\n",
      "   at System.DisplayExtensions.Display(Object value, String[] mimeTypes) in D:\\a\\_work\\1\\s\\src\\Microsoft.DotNet.Interactive\\DisplayExtensions.cs:line 23\r\n",
      "   at Microsoft.DotNet.Interactive.Kernel.display(Object value, String[] mimeTypes) in D:\\a\\_work\\1\\s\\src\\Microsoft.DotNet.Interactive\\Kernel.Static.cs:line 30\r\n",
      "   at Submission#9.<<Initialize>>d__0.MoveNext()\r\n",
      "--- End of stack trace from previous location ---\r\n",
      "   at Microsoft.CodeAnalysis.Scripting.ScriptExecutionState.RunSubmissionsAsync[TResult](ImmutableArray`1 precedingExecutors, Func`2 currentExecutor, StrongBox`1 exceptionHolderOpt, Func`2 catchExceptionOpt, CancellationToken cancellationToken)"
     ]
    }
   ],
   "source": [
    "#!set --value @fsharp:flattenedDataAsJson --name flattenedData\n",
    "\n",
    "#r \"nuget: Newtonsoft.Json, 13.0.3\"\n",
    "using Newtonsoft.Json;\n",
    "using Newtonsoft.Json.Linq;\n",
    "\n",
    "var sourceEntries =\n",
    "    (from d in JArray.Parse(flattenedData)\n",
    "    select new {\n",
    "        Id = Guid.NewGuid(),\n",
    "        SourceName = (string)d[\"AwesomeList\"],\n",
    "        EntityNameAlias = (string)d[\"Name\"],\n",
    "        Description = (string)d[\"Description\"],\n",
    "        Url = (string)d[\"Link\"],\n",
    "        Relations = d[\"Headers\"].Values<string>()\n",
    "    }).ToList();\n",
    "\n",
    "display(\"Source Entries\");\n",
    "display(sourceEntries.Where(se => se.EntityNameAlias == \"Graph Databases\"));\n",
    "\n",
    "// Generate source entries for Headers\n",
    "var headerSourceEntries =\n",
    "    sourceEntries\n",
    "    .Select(se => new {se.SourceName, se.Relations})\n",
    "    .SelectMany(se => se.Relations, (se, relation) => new {se.SourceName, Relation = relation, Parents = se.Relations.Skip(se.Relations.ToList().FindIndex(r => r == relation))})\n",
    "    .DistinctBy(x => new {x.SourceName, x.Relation})\n",
    "    .Select(se => new {\n",
    "        Id = Guid.NewGuid(),\n",
    "        SourceName = se.SourceName,\n",
    "        EntityNameAlias = se.Relation,\n",
    "        Description = \"\",\n",
    "        Url = \"\",\n",
    "        Relations = se.Parents\n",
    "    }).ToList();\n",
    "\n",
    "display(\"Header Source Entries\");\n",
    "display(headerSourceEntries.Where(se => se.EntityNameAlias == \"Graph Databases\"));\n",
    "display(headerSourceEntries.Where(se => se.EntityNameAlias == \"Infrastructure\"));\n",
    "\n",
    "// Combine the source entries and header source entries\n",
    "var completeSourceEntries =\n",
    "    from se in sourceEntries\n",
    "    join hse in headerSourceEntries on new {se.EntityNameAlias, se.SourceName} equals new {hse.EntityNameAlias, hse.SourceName} into hsesGroup\n",
    "    from hses in hsesGroup.DefaultIfEmpty() \n",
    "    select new {\n",
    "        Id = hses?.Id ?? se.Id,\n",
    "        SourceName = hses.SourceName,\n",
    "        EntityNameAlias = se.EntityNameAlias,\n",
    "        Description = se.Description,\n",
    "        Url = se.Url,\n",
    "        Relations = (hsesGroup.SelectMany(h => h.Relations).Concat(se.Relations)).Distinct()\n",
    "    };\n",
    "display(\"Complete Source Entries\");\n",
    "display(completeSourceEntries.Where(se => se.EntityNameAlias == \"Graph Databases\"));\n",
    "display(completeSourceEntries.Where(se => se.EntityNameAlias == \"Infrastructure\"));\n",
    "\n",
    "\n",
    "\n",
    "// Generate an entity for each source entry, giving each entry an id\n",
    "// (deduplication occurs in the step 4 notebook)\n",
    "var partialEntities =\n",
    "    (from se in completeSourceEntries\n",
    "    select new {\n",
    "        Id = Guid.NewGuid(),\n",
    "        DisplayName = se.EntityNameAlias,\n",
    "        SourceEntries = new[] { se },\n",
    "        EntityType = \"TODO\",\n",
    "    } into partialEntity\n",
    "    select partialEntity).ToList();\n",
    "\n",
    "display(\"Partial Entities\");\n",
    "display(partialEntities.Where(pe => pe.DisplayName == \"ArangoDB\"));\n",
    "display(partialEntities.Where(pe => pe.DisplayName == \"Graph Databases\"));\n",
    "display(partialEntities.Where(pe => pe.DisplayName == \"Infrastructure\"));\n",
    "\n",
    "\n",
    "// Calculate the relationships between entities\n",
    "Guid? GetEntityIdForRelationship(string? sourceName, string? relationshipName) {\n",
    "    var entitiesFromSource = partialEntities.Where(x => x.SourceEntries.Any(se => se.SourceName == sourceName));\n",
    "    var entitiesWithName = entitiesFromSource.Where(x => x.DisplayName == relationshipName);\n",
    "    return entitiesWithName.FirstOrDefault()?.Id;\n",
    "}\n",
    "\n",
    "display(\"GetEntityIdForRelationship\");\n",
    "display(GetEntityIdForRelationship(\"awesome-knowledge-graph.md\", \"Graph Databases\"));\n",
    "\n",
    "// Map new things\n",
    "var withRelationships =\n",
    "    partialEntities\n",
    "    .Select(pe => new {\n",
    "        Id = pe.Id,\n",
    "        DisplayName = pe.DisplayName,\n",
    "        EntityType = pe.EntityType,\n",
    "        SourceEntries = pe.SourceEntries.Select(se => new {\n",
    "            Id = se.Id,\n",
    "            SourceName = se.SourceName,\n",
    "            EntityNameAlias = se.EntityNameAlias,\n",
    "            Description = se.Description,\n",
    "            Url = se.Url,\n",
    "            Relations = se.Relations.Select(r => GetEntityIdForRelationship(se.SourceName, r))\n",
    "        })\n",
    "    });\n",
    "\n",
    "display(\"withRelationship\");\n",
    "display(withRelationships.Where(pe => pe.DisplayName == \"ArangoDB\"));\n",
    "\n",
    "\n",
    "//display(relationships.Where(r => r.Key.RelationshipName == \"Graph Databases\"));\n",
    "\n",
    "\n",
    "\n",
    "\n",
    "/*var relationships =\n",
    "    partialEntities\n",
    "\n",
    "    .SelectMany(pe => pe.SourceEntries)\n",
    "    .SelectMany(se => se.Relations.Select(r => new {Key = new { SourceName = se.SourceName, RelationshipName = r } }))\n",
    "    .Distinct()\n",
    "    .Select(x => new { Key = x.Key, EntityId = x.Key.SourceName is not null ? GetEntityForRelationship(x.Key.SourceName, x.Key.RelationshipName) : null});*/\n",
    "\n",
    "//display(relationships.Where(r => r.Key.RelationshipName == \"Graph Databases\"));\n",
    "\n",
    "\n",
    "/*\n",
    "display(relationships.Where(r => r.Key.RelationshipName == \"Graph Databases\"));\n",
    "\n",
    "\n",
    "//display(GetEntityForRelationship(\"awesome-fsharp.md\", \"Table of Contents\"));\n",
    "\n",
    "/*\n",
    "var relationships =\n",
    "    partialEntities\n",
    "        .SelectMany(pe => pe.SourceEntries)\n",
    "        .Select(se => se.Relations.Select(r => new { SourceName = se.SourceName, RelationshipName = r }))\n",
    "        .SelectMany(rel => rel)\n",
    "        .Distinct()\n",
    "        .Select(rel => new { Key = rel, RelationshipId = partialEntities.FirstOrDefault(pe => pe.DisplayName == rel.RelationshipName && pe.SourceEntries.Select(se => se.SourceName).Contains(rel.SourceName))?.Id })\n",
    "        .ToList();\n",
    "        //.Join(partialEntities, rel => rel.RelationshipName, p => p.DisplayName, (rel, p) => new { Key = rel, RelationshipId = p.Id });\n",
    "        */\n",
    "/*\n",
    "display(relationships.Where(r => r.Key.RelationshipName == \"Graph databases\"));\n",
    "*/\n",
    "/*\n",
    "// Today I learned that you can't override types using the \"with\" syntax, and you have\n",
    "// to preserve the original type. Therefore I need to specify the creation of an entirely new anon object\n",
    "// fully to correctly implement\n",
    "var entitiesWithCompleteRelationships =\n",
    "    from pe in partialEntities\n",
    "    select new {\n",
    "        Id = pe.Id,\n",
    "        DisplayName = pe.DisplayName,\n",
    "        EntityType = pe.EntityType,\n",
    "        SourceEntries =\n",
    "            from se in pe.SourceEntries\n",
    "            select new {\n",
    "                Id = se.Id,\n",
    "                SourceName = se.SourceName,\n",
    "                EntityNameAlias = se.EntityNameAlias,\n",
    "                Description = se.Description,\n",
    "                Url = se.Url,\n",
    "                Relations = \n",
    "                    (from rel in relationships\n",
    "                    where rel.Key.SourceName == se.SourceName && rel.Key.RelationshipName == se.EntityNameAlias\n",
    "                    select rel.EntityId).Distinct()\n",
    "            }\n",
    "    };\n",
    "\n",
    "// Remove reflexive relationships\n",
    "//var entitiesNoReflexiveRelationships =\n",
    "//    entitiesWithCompleteRelationships.Select(e => e with {SourceEntries = e.SourceEntries.Select(se => se with {Relations = se.Relations.Where(r => r != e.Id)})});\n",
    "\n",
    "// Calculate the entity types using the relationship count\n",
    "var entitiesWithEntityTypes =\n",
    "    from e in entitiesWithCompleteRelationships\n",
    "    select e with {\n",
    "        EntityType = relationships.Any(x => x.EntityId == e.Id) ? \"Theme\" : \"Code\"\n",
    "    };\n",
    "\n",
    "\n",
    "var entities = JsonConvert.SerializeObject(entitiesWithEntityTypes.ToList(), Formatting.Indented);\n",
    "*/"
   ]
  },
  {
   "cell_type": "markdown",
   "metadata": {},
   "source": [
    "## Save cleaned data\n",
    "\n",
    "Saving the results of data cleaning"
   ]
  },
  {
   "cell_type": "code",
   "execution_count": 7,
   "metadata": {
    "dotnet_interactive": {
     "language": "fsharp"
    },
    "polyglot_notebook": {
     "kernelName": "fsharp"
    },
    "vscode": {
     "languageId": "polyglot-notebook"
    }
   },
   "outputs": [
    {
     "ename": "Error",
     "evalue": "Value 'entities' not found in kernel csharp",
     "output_type": "error",
     "traceback": [
      "Value 'entities' not found in kernel csharp"
     ]
    },
    {
     "ename": "Error",
     "evalue": "Value 'entities' not found in kernel csharp",
     "output_type": "error",
     "traceback": [
      "Value 'entities' not found in kernel csharp"
     ]
    }
   ],
   "source": [
    "#!set --value @csharp:entities --name entities\n",
    "\n",
    "// Actual saving\n",
    "open System.IO\n",
    "\n",
    "let filePath = \"../data/cleaned/cleaned-dataset.json\"\n",
    "\n",
    "let directoryPath = Path.GetDirectoryName(filePath)\n",
    "if not <| Directory.Exists(directoryPath) then\n",
    "    Directory.CreateDirectory(directoryPath) |> ignore\n",
    "\n",
    "File.WriteAllText(filePath, entities)"
   ]
  }
 ],
 "metadata": {
  "kernelspec": {
   "display_name": ".NET (C#)",
   "language": "C#",
   "name": ".net-csharp"
  },
  "language_info": {
   "name": "python"
  },
  "polyglot_notebook": {
   "kernelInfo": {
    "defaultKernelName": "csharp",
    "items": [
     {
      "aliases": [],
      "name": "csharp"
     }
    ]
   }
  }
 },
 "nbformat": 4,
 "nbformat_minor": 2
}
