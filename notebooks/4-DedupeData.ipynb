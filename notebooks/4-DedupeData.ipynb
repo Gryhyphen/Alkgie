{
 "cells": [
  {
   "cell_type": "markdown",
   "metadata": {},
   "source": [
    "# Dedupe Data\n",
    "\n",
    "In this notebook we will dedupe entities / perform entity resolution.\n",
    "\n",
    "## What is entity resolution?\n",
    "\n",
    "Entity Resolution is a technique to identify data records in a single data source or across multiple data sources that refer to the same real-world entity and to link the records together.\n",
    "\n",
    "https://towardsdatascience.com/an-introduction-to-entity-resolution-needs-and-challenges-97fba052dde5\n"
   ]
  },
  {
   "cell_type": "markdown",
   "metadata": {},
   "source": [
    "## Load the data into memory\n",
    "\n",
    "First step is to take the cleaned data from step 3 and load it into the notebook."
   ]
  },
  {
   "cell_type": "code",
   "execution_count": 1,
   "metadata": {
    "dotnet_interactive": {
     "language": "fsharp"
    },
    "polyglot_notebook": {
     "kernelName": "fsharp"
    },
    "vscode": {
     "languageId": "polyglot-notebook"
    }
   },
   "outputs": [
    {
     "data": {
      "text/html": [
       "<div><div></div><div></div><div><strong>Installed Packages</strong><ul><li><span>FSharp.Data, 6.4.0</span></li></ul></div></div>"
      ]
     },
     "metadata": {},
     "output_type": "display_data"
    },
    {
     "data": {
      "text/html": [
       "<div class=\"dni-plaintext\"><pre>365</pre></div><style>\r\n",
       ".dni-code-hint {\r\n",
       "    font-style: italic;\r\n",
       "    overflow: hidden;\r\n",
       "    white-space: nowrap;\r\n",
       "}\r\n",
       ".dni-treeview {\r\n",
       "    white-space: nowrap;\r\n",
       "}\r\n",
       ".dni-treeview td {\r\n",
       "    vertical-align: top;\r\n",
       "    text-align: start;\r\n",
       "}\r\n",
       "details.dni-treeview {\r\n",
       "    padding-left: 1em;\r\n",
       "}\r\n",
       "table td {\r\n",
       "    text-align: start;\r\n",
       "}\r\n",
       "table tr { \r\n",
       "    vertical-align: top; \r\n",
       "    margin: 0em 0px;\r\n",
       "}\r\n",
       "table tr td pre \r\n",
       "{ \r\n",
       "    vertical-align: top !important; \r\n",
       "    margin: 0em 0px !important;\r\n",
       "} \r\n",
       "table th {\r\n",
       "    text-align: start;\r\n",
       "}\r\n",
       "</style>"
      ]
     },
     "metadata": {},
     "output_type": "display_data"
    }
   ],
   "source": [
    "#r \"nuget:FSharp.Data\"\n",
    "open FSharp.Data\n",
    "type CleanedData = JsonProvider<\"../data/cleaned/cleaned-dataset.json\">\n",
    "\n",
    "type AlkgieV1Relation = {\n",
    "    Id: Guid\n",
    "    Source: string\n",
    "}\n",
    "\n",
    "type AlkgieV1EntityTypes =\n",
    "    | Theme\n",
    "    | Code\n",
    "\n",
    "type AlkgieV1Entity = {\n",
    "    Id: Guid\n",
    "    Relations: AlkgieV1Relation[]\n",
    "    Link: Option<string>\n",
    "    Name: Option<string>\n",
    "    Description: string\n",
    "    Source: string\n",
    "    EntityType: AlkgieV1EntityTypes\n",
    "}\n",
    "\n",
    "let mapRelations (relations: CleanedData.Relation[]) =\n",
    "    relations\n",
    "    |> Seq.map (fun relation -> { Id = relation.Id; Source = relation.Source })\n",
    "    |> Seq.toArray\n",
    "\n",
    "let mapEntityType entityType =\n",
    "    match entityType with\n",
    "    | \"Theme\" -> Theme\n",
    "    | \"Code\" -> Code\n",
    "    | _ -> failwith \"Unknown entity type\"\n",
    "\n",
    "let dataset =\n",
    "    CleanedData.Load(\"../data/cleaned/cleaned-dataset.json\")\n",
    "    |> Seq.map (fun x -> { Id = x.Id; Relations = mapRelations x.Relations; Link = x.Link; Name = x.Name; Description = x.Description; Source = x.Source; EntityType =  mapEntityType x.EntityType })\n",
    "\n",
    "Seq.length dataset"
   ]
  },
  {
   "cell_type": "markdown",
   "metadata": {},
   "source": [
    "## Dedupe on exact name match\n",
    "\n",
    "NOTE: This dedupes both themes and codes atm BTW\n",
    "\n",
    "Performing a dedupe on themes if the names exactly match, as we expect they are talking about the same concept.\n",
    "Note: Due to the way pragmatics work, it is possible for two themes to mean different things in different contexts (contextual overloading). Will need to do an investigation on if we can perform a more complex analysis.\n",
    "\n",
    "(pragmatics as in pragmatics, semantics, syntax - language theory, modeling language theory specifically).\n",
    "\n",
    "However as a first attempt, exact name matching should be pretty good."
   ]
  },
  {
   "cell_type": "code",
   "execution_count": 5,
   "metadata": {
    "dotnet_interactive": {
     "language": "fsharp"
    },
    "polyglot_notebook": {
     "kernelName": "fsharp"
    },
    "vscode": {
     "languageId": "polyglot-notebook"
    }
   },
   "outputs": [
    {
     "data": {
      "text/html": [
       "<div class=\"dni-plaintext\"><pre>359</pre></div><style>\r\n",
       ".dni-code-hint {\r\n",
       "    font-style: italic;\r\n",
       "    overflow: hidden;\r\n",
       "    white-space: nowrap;\r\n",
       "}\r\n",
       ".dni-treeview {\r\n",
       "    white-space: nowrap;\r\n",
       "}\r\n",
       ".dni-treeview td {\r\n",
       "    vertical-align: top;\r\n",
       "    text-align: start;\r\n",
       "}\r\n",
       "details.dni-treeview {\r\n",
       "    padding-left: 1em;\r\n",
       "}\r\n",
       "table td {\r\n",
       "    text-align: start;\r\n",
       "}\r\n",
       "table tr { \r\n",
       "    vertical-align: top; \r\n",
       "    margin: 0em 0px;\r\n",
       "}\r\n",
       "table tr td pre \r\n",
       "{ \r\n",
       "    vertical-align: top !important; \r\n",
       "    margin: 0em 0px !important;\r\n",
       "} \r\n",
       "table th {\r\n",
       "    text-align: start;\r\n",
       "}\r\n",
       "</style>"
      ]
     },
     "metadata": {},
     "output_type": "display_data"
    }
   ],
   "source": [
    "let mergeEntities (entity1: AlkgieV1Entity) (entity2: AlkgieV1Entity) =\n",
    "    let relations = Array.append entity1.Relations entity2.Relations\n",
    "    \n",
    "    let link = match entity1.Link with\n",
    "               | Some(link) -> Some(link)\n",
    "               | None -> entity2.Link\n",
    "    let name = match entity1.Name with\n",
    "               | Some(name) -> Some(name)\n",
    "               | None -> entity2.Name\n",
    "    { Id = entity1.Id; Relations = relations; Link = link; Name = name; Description = entity1.Description; Source = entity1.Source; EntityType = entity1.EntityType }\n",
    "\n",
    "let duplicateGroups =\n",
    "    dataset\n",
    "        |> Seq.groupBy (fun x ->\n",
    "            match x.Name with\n",
    "            | Some(name) -> name.Trim().ToLower()\n",
    "            | None -> \"\")\n",
    "        |> Seq.filter (fun (_, entities) -> Seq.length entities > 1)\n",
    "\n",
    "let deduped =\n",
    "    duplicateGroups\n",
    "    |> Seq.map (fun (_, entities) -> entities |> Seq.reduce mergeEntities)\n",
    "\n",
    "let updateRelationships (entity: AlkgieV1Entity) =\n",
    "    let duplicateIds = duplicateGroups |> Seq.collect (fun (_, entities) -> entities |> Seq.map (fun entity -> entity.Id))\n",
    "\n",
    "    if duplicateIds |> Seq.exists (fun duplicateId -> entity.Id = duplicateId) then\n",
    "        let oldId = entity.Id\n",
    "        let _, duplicateIdGroup = duplicateGroups |> Seq.find (fun (_, entities) -> entities |> Seq.exists (fun entity -> entity.Id = oldId))\n",
    "\n",
    "        let newEntity = deduped |> Seq.find (fun entity -> duplicateIdGroup |> Seq.exists (fun entity -> entity.Id = entity.Id))\n",
    "        let newId = newEntity.Id\n",
    "\n",
    "        { \n",
    "            entity with \n",
    "                Relations = \n",
    "                    entity.Relations\n",
    "                    |> Array.map (fun relation -> if relation.Id = oldId then { relation with Id = newId } else relation)\n",
    "                    |> Array.distinct\n",
    "        }\n",
    "    else\n",
    "        entity\n",
    "\n",
    "\n",
    "let duplicates = duplicateGroups |> Seq.collect (fun (_, entities) -> entities)\n",
    "\n",
    "let mutable dedupedDataset =\n",
    "    dataset\n",
    "    |> Seq.except duplicates\n",
    "    |> Seq.append deduped\n",
    "    |> Seq.map updateRelationships\n",
    "\n",
    "Seq.length dedupedDataset"
   ]
  }
 ],
 "metadata": {
  "kernelspec": {
   "display_name": ".NET (C#)",
   "language": "C#",
   "name": ".net-csharp"
  },
  "language_info": {
   "name": "python"
  },
  "polyglot_notebook": {
   "kernelInfo": {
    "defaultKernelName": "csharp",
    "items": [
     {
      "aliases": [],
      "name": "csharp"
     }
    ]
   }
  }
 },
 "nbformat": 4,
 "nbformat_minor": 2
}
