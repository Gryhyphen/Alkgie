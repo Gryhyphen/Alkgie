{
 "cells": [
  {
   "cell_type": "markdown",
   "metadata": {},
   "source": [
    "# Dedupe Data\n",
    "\n",
    "In this notebook we will dedupe entities / perform entity resolution.\n",
    "\n",
    "## What is entity resolution?\n",
    "\n",
    "Entity Resolution is a technique to identify data records in a single data source or across multiple data sources that refer to the same real-world entity and to link the records together.\n",
    "\n",
    "https://towardsdatascience.com/an-introduction-to-entity-resolution-needs-and-challenges-97fba052dde5\n"
   ]
  },
  {
   "cell_type": "markdown",
   "metadata": {},
   "source": [
    "## Define types\n",
    "\n",
    "Defining models in the clean dataset. While the data provider does a good job at extracting the schema, it is easier to work with the types when we define them."
   ]
  },
  {
   "cell_type": "code",
   "execution_count": 25,
   "metadata": {
    "dotnet_interactive": {
     "language": "fsharp"
    },
    "polyglot_notebook": {
     "kernelName": "fsharp"
    },
    "vscode": {
     "languageId": "polyglot-notebook"
    }
   },
   "outputs": [],
   "source": [
    "type AlkgieV1EntityTypes =\n",
    "    | Theme\n",
    "    | Code\n",
    "\n",
    "type AlkgieV1SourceEntry = {\n",
    "    Id: Guid\n",
    "    SourceName: string\n",
    "    EntityNameAlias: Option<string>\n",
    "    Description: string\n",
    "    Url: Option<string>\n",
    "    Relations: Guid[]\n",
    "}\n",
    "\n",
    "type AlkgieV1Entity =\n",
    "    {\n",
    "        Id: Guid\n",
    "        DisplayName: string\n",
    "        SourceEntries: AlkgieV1SourceEntry[]\n",
    "        EntityType: AlkgieV1EntityTypes\n",
    "    }\n",
    "    member this.Relations with get() = this.SourceEntries |> Seq.collect (fun x -> x.Relations)\n"
   ]
  },
  {
   "cell_type": "markdown",
   "metadata": {},
   "source": [
    "## Load the data into memory\n",
    "\n",
    "First step is to take the cleaned data from step 3 and load it into the notebook."
   ]
  },
  {
   "cell_type": "code",
   "execution_count": 26,
   "metadata": {
    "dotnet_interactive": {
     "language": "fsharp"
    },
    "polyglot_notebook": {
     "kernelName": "fsharp"
    },
    "vscode": {
     "languageId": "polyglot-notebook"
    }
   },
   "outputs": [
    {
     "data": {
      "text/html": [
       "<div><div></div><div></div><div><strong>Installed Packages</strong><ul><li><span>FSharp.Data, 6.4.0</span></li></ul></div></div>"
      ]
     },
     "metadata": {},
     "output_type": "display_data"
    },
    {
     "data": {
      "text/html": [
       "<div class=\"dni-plaintext\"><pre>365</pre></div><style>\r\n",
       ".dni-code-hint {\r\n",
       "    font-style: italic;\r\n",
       "    overflow: hidden;\r\n",
       "    white-space: nowrap;\r\n",
       "}\r\n",
       ".dni-treeview {\r\n",
       "    white-space: nowrap;\r\n",
       "}\r\n",
       ".dni-treeview td {\r\n",
       "    vertical-align: top;\r\n",
       "    text-align: start;\r\n",
       "}\r\n",
       "details.dni-treeview {\r\n",
       "    padding-left: 1em;\r\n",
       "}\r\n",
       "table td {\r\n",
       "    text-align: start;\r\n",
       "}\r\n",
       "table tr { \r\n",
       "    vertical-align: top; \r\n",
       "    margin: 0em 0px;\r\n",
       "}\r\n",
       "table tr td pre \r\n",
       "{ \r\n",
       "    vertical-align: top !important; \r\n",
       "    margin: 0em 0px !important;\r\n",
       "} \r\n",
       "table th {\r\n",
       "    text-align: start;\r\n",
       "}\r\n",
       "</style>"
      ]
     },
     "metadata": {},
     "output_type": "display_data"
    }
   ],
   "source": [
    "#r \"nuget:FSharp.Data\"\n",
    "open FSharp.Data\n",
    "type CleanedData = JsonProvider<\"../data/cleaned/cleaned-dataset.json\">\n",
    "\n",
    "let mapEntityType entityType =\n",
    "    match entityType with\n",
    "    | \"Theme\" -> Theme\n",
    "    | \"Code\" -> Code\n",
    "    | _ -> failwith \"Unknown entity type\"\n",
    "\n",
    "let mapAlkgieV1SourceEntry (sourceEntry: CleanedData.SourceEntry) =\n",
    "    { \n",
    "        Id = sourceEntry.Id;\n",
    "        SourceName = sourceEntry.SourceName;\n",
    "        EntityNameAlias = sourceEntry.EntityNameAlias;\n",
    "        Description = sourceEntry.Description;\n",
    "        Url = sourceEntry.Url;\n",
    "        Relations = sourceEntry.Relations\n",
    "    }\n",
    "\n",
    "let mapAlkgieV1Entity (entity: CleanedData.Root) =\n",
    "    {\n",
    "        Id = entity.Id;\n",
    "        DisplayName = entity.DisplayName;\n",
    "        SourceEntries = entity.SourceEntries |> Seq.map mapAlkgieV1SourceEntry |> Seq.toArray;\n",
    "        EntityType = mapEntityType entity.EntityType\n",
    "    }\n",
    "\n",
    "let dataset =\n",
    "    CleanedData.Load(\"../data/cleaned/cleaned-dataset.json\")\n",
    "    |> Seq.map mapAlkgieV1Entity\n",
    "\n",
    "Seq.length dataset"
   ]
  },
  {
   "cell_type": "markdown",
   "metadata": {},
   "source": [
    "## Defining Dedupe Helpers\n",
    "\n",
    "Some helper functions that make deduplication easier"
   ]
  },
  {
   "cell_type": "code",
   "execution_count": 27,
   "metadata": {
    "dotnet_interactive": {
     "language": "fsharp"
    },
    "polyglot_notebook": {
     "kernelName": "fsharp"
    },
    "vscode": {
     "languageId": "polyglot-notebook"
    }
   },
   "outputs": [],
   "source": [
    "let mergeEntities (entity1: AlkgieV1Entity) (entity2: AlkgieV1Entity) =\n",
    "    let sourceEntries = Array.append entity1.SourceEntries entity2.SourceEntries\n",
    "    let name = match (entity1.DisplayName, entity2.DisplayName) with\n",
    "                | (\"MISSING DISPLAY NAME\", _) -> entity2.DisplayName\n",
    "                | (_, \"MISSING DISPLAY NAME\") -> entity1.DisplayName\n",
    "                | _ -> \"MISSING DISPLAY NAME\"\n",
    "    {\n",
    "        Id = entity1.Id;\n",
    "        DisplayName = entity1.DisplayName;\n",
    "        SourceEntries = sourceEntries;\n",
    "        EntityType = entity1.EntityType;\n",
    "    }\n",
    "\n",
    "type MaybeBuilder() =\n",
    "\n",
    "    member this.Bind(x, f) =\n",
    "        match x with\n",
    "        | None -> None // The entire maybe evaluates to none\n",
    "        | Some a -> f a // f of a continues the expression by applying f to a\n",
    "\n",
    "    member this.Return(x) =\n",
    "        Some x // terminates the expression and returns the value\n",
    "\n",
    "let maybe = new MaybeBuilder()"
   ]
  },
  {
   "cell_type": "markdown",
   "metadata": {},
   "source": [
    "## Dedupe on exact name match\n",
    "\n",
    "NOTE: This dedupes both themes and codes atm BTW\n",
    "\n",
    "Performing a dedupe on themes if the names exactly match, as we expect they are talking about the same concept.\n",
    "Note: Due to the way pragmatics work, it is possible for two themes to mean different things in different contexts (contextual overloading). Will need to do an investigation on if we can perform a more complex analysis.\n",
    "\n",
    "(pragmatics as in pragmatics, semantics, syntax - language theory, modeling language theory specifically).\n",
    "\n",
    "However as a first attempt, exact name matching should be pretty good."
   ]
  },
  {
   "cell_type": "code",
   "execution_count": 32,
   "metadata": {
    "dotnet_interactive": {
     "language": "fsharp"
    },
    "polyglot_notebook": {
     "kernelName": "fsharp"
    },
    "vscode": {
     "languageId": "polyglot-notebook"
    }
   },
   "outputs": [
    {
     "data": {
      "text/html": [
       "<div class=\"dni-plaintext\"><pre>359</pre></div><style>\r\n",
       ".dni-code-hint {\r\n",
       "    font-style: italic;\r\n",
       "    overflow: hidden;\r\n",
       "    white-space: nowrap;\r\n",
       "}\r\n",
       ".dni-treeview {\r\n",
       "    white-space: nowrap;\r\n",
       "}\r\n",
       ".dni-treeview td {\r\n",
       "    vertical-align: top;\r\n",
       "    text-align: start;\r\n",
       "}\r\n",
       "details.dni-treeview {\r\n",
       "    padding-left: 1em;\r\n",
       "}\r\n",
       "table td {\r\n",
       "    text-align: start;\r\n",
       "}\r\n",
       "table tr { \r\n",
       "    vertical-align: top; \r\n",
       "    margin: 0em 0px;\r\n",
       "}\r\n",
       "table tr td pre \r\n",
       "{ \r\n",
       "    vertical-align: top !important; \r\n",
       "    margin: 0em 0px !important;\r\n",
       "} \r\n",
       "table th {\r\n",
       "    text-align: start;\r\n",
       "}\r\n",
       "</style>"
      ]
     },
     "metadata": {},
     "output_type": "display_data"
    }
   ],
   "source": [
    "let isExactNameMatch entity1 (alias: option<string>) =\n",
    "    let answer = maybe {\n",
    "        let! alias = alias\n",
    "        return entity1.DisplayName.Trim().ToLower() = alias.Trim().ToLower()\n",
    "    }\n",
    "    answer |> function | Some(x) -> x | None -> false\n",
    "\n",
    "let exactNameMatches = \n",
    "    dataset\n",
    "    |> Seq.map (fun entity -> (entity, entity.SourceEntries |> Seq.map (fun sourceEntry -> sourceEntry.EntityNameAlias)))\n",
    "    // Obtain exact name matching of aliases\n",
    "    |> Seq.map (fun (entity1, aliases) ->\n",
    "        let aliasSet =\n",
    "            dataset\n",
    "            |> Seq.filter (fun entity2 -> aliases |> Seq.exists (fun alias -> isExactNameMatch entity2 alias))\n",
    "            |> Seq.map (fun entity2 -> entity2.Id)\n",
    "            |> Set.ofSeq\n",
    "        (entity1, aliasSet)\n",
    "        )\n",
    "\n",
    "let dupes =\n",
    "    exactNameMatches\n",
    "    |> Seq.groupBy (fun (_, aliasSet) -> aliasSet)\n",
    "    |> Seq.filter (fun (_, entities) -> Seq.length entities > 1)\n",
    "    |> Seq.toList\n",
    "\n",
    "let duplicates =\n",
    "    dupes\n",
    "    |> Seq.collect (fun (_, entities) -> entities)\n",
    "    |> Seq.map (fun (entity, _) -> entity)\n",
    "    |> Seq.toList\n",
    "\n",
    "let dedupes =\n",
    "    dupes\n",
    "    |> Seq.map (fun (_, entities) ->\n",
    "        let entities = entities |> Seq.map (fun (entity, _) -> entity)\n",
    "        let merged = entities |> Seq.reduce mergeEntities\n",
    "        merged\n",
    "    )\n",
    "    |> Seq.toList\n",
    "\n",
    "let updateEntity entity =\n",
    "    let updateRelations relation =\n",
    "        let answer =\n",
    "            maybe {\n",
    "                let! (relationshipDupes, _) = dupes |> Seq.tryFind (fun (aliasSet, _) -> aliasSet |> Set.contains relation)\n",
    "                return relationshipDupes |> Seq.head\n",
    "            }\n",
    "        answer |> function | Some(x) -> x | None -> relation\n",
    "\n",
    "    let updateSourceEntry entry =\n",
    "        { entry with Relations = entry.Relations |> Array.map updateRelations }\n",
    "\n",
    "    { entity with SourceEntries = entity.SourceEntries |> Array.map updateSourceEntry }\n",
    "\n",
    "let dedupedDataset =\n",
    "    dataset\n",
    "    |> Seq.except duplicates\n",
    "    |> Seq.append dedupes\n",
    "    |> Seq.map updateEntity\n",
    "    |> Seq.toList\n",
    "\n",
    "dedupedDataset\n",
    "|> Seq.length"
   ]
  },
  {
   "cell_type": "markdown",
   "metadata": {},
   "source": [
    "### Test dedupe worked\n",
    "\n",
    "This section just contains a little bit of working code to sanity check that the deduplication code is creating working relationships."
   ]
  },
  {
   "cell_type": "code",
   "execution_count": 31,
   "metadata": {
    "dotnet_interactive": {
     "language": "fsharp"
    },
    "polyglot_notebook": {
     "kernelName": "fsharp"
    },
    "vscode": {
     "languageId": "polyglot-notebook"
    }
   },
   "outputs": [
    {
     "data": {
      "text/html": [
       "<table><thead><tr><th><i>index</i></th><th>value</th></tr></thead><tbody><tr><td>0</td><td><details class=\"dni-treeview\"><summary><span class=\"dni-code-hint\"><code>({ Id = 32837ab4-d753-455c-8a3c-57140ea19ed7\\n  DisplayName = &quot;Creating type providers&quot;\\n  SourceEntries = [|{ Id = fde36d35-8712-4ff6-9b94-62850e573b9a\\n                      SourceName = &quot;awesome-fsharp.md&quot;\\n                      EntityNameAlias = Some &quot;Creating type providers&quot;\\n                  ...</code></span></summary><div><table><thead><tr></tr></thead><tbody><tr><td>Item1</td><td><details class=\"dni-treeview\"><summary><span class=\"dni-code-hint\"><code>{ Id = 32837ab4-d753-455c-8a3c-57140ea19ed7\\n  DisplayName = &quot;Creating type providers&quot;\\n  SourceEntries = [|{ Id = fde36d35-8712-4ff6-9b94-62850e573b9a\\n                      SourceName = &quot;awesome-fsharp.md&quot;\\n                      EntityNameAlias = Some &quot;Creating type providers&quot;\\n                   ...</code></span></summary><div><table><thead><tr></tr></thead><tbody><tr><td>Id</td><td><div class=\"dni-plaintext\"><pre>32837ab4-d753-455c-8a3c-57140ea19ed7</pre></div></td></tr><tr><td>DisplayName</td><td><div class=\"dni-plaintext\"><pre>Creating type providers</pre></div></td></tr><tr><td>SourceEntries</td><td><table><thead><tr><th><i>index</i></th><th>value</th></tr></thead><tbody><tr><td>0</td><td><details class=\"dni-treeview\"><summary><span class=\"dni-code-hint\"><code>{ Id = fde36d35-8712-4ff6-9b94-62850e573b9a\\n  SourceName = &quot;awesome-fsharp.md&quot;\\n  EntityNameAlias = Some &quot;Creating type providers&quot;\\n  Description = &quot;Creating type providers&quot;\\n  Url = Some &quot;#creating-type-providers&quot;\\n  Relations = [||] }</code></span></summary><div><table><thead><tr></tr></thead><tbody><tr><td>Id</td><td><div class=\"dni-plaintext\"><pre>fde36d35-8712-4ff6-9b94-62850e573b9a</pre></div></td></tr><tr><td>SourceName</td><td><div class=\"dni-plaintext\"><pre>awesome-fsharp.md</pre></div></td></tr><tr><td>EntityNameAlias</td><td><details class=\"dni-treeview\"><summary><span class=\"dni-code-hint\"><code>Some(Creating type providers)</code></span></summary><div><table><thead><tr></tr></thead><tbody><tr><td>Value</td><td>Creating type providers</td></tr></tbody></table></div></details></td></tr><tr><td>Description</td><td><div class=\"dni-plaintext\"><pre>Creating type providers</pre></div></td></tr><tr><td>Url</td><td><details class=\"dni-treeview\"><summary><span class=\"dni-code-hint\"><code>Some(#creating-type-providers)</code></span></summary><div><table><thead><tr></tr></thead><tbody><tr><td>Value</td><td>#creating-type-providers</td></tr></tbody></table></div></details></td></tr><tr><td>Relations</td><td><div class=\"dni-plaintext\"><pre>[  ]</pre></div></td></tr></tbody></table></div></details></td></tr></tbody></table></td></tr><tr><td>EntityType</td><td><details class=\"dni-treeview\"><summary><span class=\"dni-code-hint\"><code>Theme</code></span></summary><div><table><thead><tr></tr></thead><tbody></tbody></table></div></details></td></tr><tr><td>Relations</td><td><details class=\"dni-treeview\"><summary><span class=\"dni-code-hint\"><code>[  ]</code></span></summary><div><table><thead><tr></tr></thead><tbody><tr><td>f</td><td><details class=\"dni-treeview\"><summary><span class=\"dni-code-hint\"><code>Microsoft.FSharp.Core.CompilerServices.RuntimeHelpers+mkConcatSeq@354[System.Guid[],System.Guid]</code></span></summary><div><table><thead><tr></tr></thead><tbody><tr><td>sources</td><td><details class=\"dni-treeview\"><summary><span class=\"dni-code-hint\"><code>[ [  ] ]</code></span></summary><div><table><thead><tr></tr></thead><tbody><tr><td>f</td><td>Microsoft.FSharp.Collections.SeqModule+revamp@728[FSI_0055+AlkgieV1SourceEntry,System.Guid[]]</td></tr><tr><td><i>(values)</i></td><td><table><thead><tr><th><i>index</i></th><th>value</th></tr></thead><tbody><tr><td>0</td><td>[  ]</td></tr></tbody></table></td></tr></tbody></table></div></details></td></tr></tbody></table></div></details></td></tr><tr><td><i>(values)</i></td><td><div class=\"dni-plaintext\"><pre>[  ]</pre></div></td></tr></tbody></table></div></details></td></tr></tbody></table></div></details></td></tr><tr><td>Item2</td><td><div class=\"dni-plaintext\"><pre>32837ab4-d753-455c-8a3c-57140ea19ed7</pre></div></td></tr></tbody></table></div></details></td></tr><tr><td>1</td><td><details class=\"dni-treeview\"><summary><span class=\"dni-code-hint\"><code>({ Id = de34d611-e791-4110-b951-3eb009783992\\n  DisplayName = &quot;.Net Core Templates&quot;\\n  SourceEntries = [|{ Id = 46ea2d1f-794d-448d-88a6-dda43e9b2dae\\n                      SourceName = &quot;awesome-fsharp.md&quot;\\n                      EntityNameAlias = Some &quot;.Net Core Templates&quot;\\n                      Desc...</code></span></summary><div><table><thead><tr></tr></thead><tbody><tr><td>Item1</td><td><details class=\"dni-treeview\"><summary><span class=\"dni-code-hint\"><code>{ Id = de34d611-e791-4110-b951-3eb009783992\\n  DisplayName = &quot;.Net Core Templates&quot;\\n  SourceEntries = [|{ Id = 46ea2d1f-794d-448d-88a6-dda43e9b2dae\\n                      SourceName = &quot;awesome-fsharp.md&quot;\\n                      EntityNameAlias = Some &quot;.Net Core Templates&quot;\\n                      Descr...</code></span></summary><div><table><thead><tr></tr></thead><tbody><tr><td>Id</td><td><div class=\"dni-plaintext\"><pre>de34d611-e791-4110-b951-3eb009783992</pre></div></td></tr><tr><td>DisplayName</td><td><div class=\"dni-plaintext\"><pre>.Net Core Templates</pre></div></td></tr><tr><td>SourceEntries</td><td><table><thead><tr><th><i>index</i></th><th>value</th></tr></thead><tbody><tr><td>0</td><td><details class=\"dni-treeview\"><summary><span class=\"dni-code-hint\"><code>{ Id = 46ea2d1f-794d-448d-88a6-dda43e9b2dae\\n  SourceName = &quot;awesome-fsharp.md&quot;\\n  EntityNameAlias = Some &quot;.Net Core Templates&quot;\\n  Description = &quot;.Net Core Templates&quot;\\n  Url = Some &quot;#net-core-templates&quot;\\n  Relations = [||] }</code></span></summary><div><table><thead><tr></tr></thead><tbody><tr><td>Id</td><td><div class=\"dni-plaintext\"><pre>46ea2d1f-794d-448d-88a6-dda43e9b2dae</pre></div></td></tr><tr><td>SourceName</td><td><div class=\"dni-plaintext\"><pre>awesome-fsharp.md</pre></div></td></tr><tr><td>EntityNameAlias</td><td><details class=\"dni-treeview\"><summary><span class=\"dni-code-hint\"><code>Some(.Net Core Templates)</code></span></summary><div><table><thead><tr></tr></thead><tbody><tr><td>Value</td><td>.Net Core Templates</td></tr></tbody></table></div></details></td></tr><tr><td>Description</td><td><div class=\"dni-plaintext\"><pre>.Net Core Templates</pre></div></td></tr><tr><td>Url</td><td><details class=\"dni-treeview\"><summary><span class=\"dni-code-hint\"><code>Some(#net-core-templates)</code></span></summary><div><table><thead><tr></tr></thead><tbody><tr><td>Value</td><td>#net-core-templates</td></tr></tbody></table></div></details></td></tr><tr><td>Relations</td><td><div class=\"dni-plaintext\"><pre>[  ]</pre></div></td></tr></tbody></table></div></details></td></tr></tbody></table></td></tr><tr><td>EntityType</td><td><details class=\"dni-treeview\"><summary><span class=\"dni-code-hint\"><code>Theme</code></span></summary><div><table><thead><tr></tr></thead><tbody></tbody></table></div></details></td></tr><tr><td>Relations</td><td><details class=\"dni-treeview\"><summary><span class=\"dni-code-hint\"><code>[  ]</code></span></summary><div><table><thead><tr></tr></thead><tbody><tr><td>f</td><td><details class=\"dni-treeview\"><summary><span class=\"dni-code-hint\"><code>Microsoft.FSharp.Core.CompilerServices.RuntimeHelpers+mkConcatSeq@354[System.Guid[],System.Guid]</code></span></summary><div><table><thead><tr></tr></thead><tbody><tr><td>sources</td><td><details class=\"dni-treeview\"><summary><span class=\"dni-code-hint\"><code>[ [  ] ]</code></span></summary><div><table><thead><tr></tr></thead><tbody><tr><td>f</td><td>Microsoft.FSharp.Collections.SeqModule+revamp@728[FSI_0055+AlkgieV1SourceEntry,System.Guid[]]</td></tr><tr><td><i>(values)</i></td><td><table><thead><tr><th><i>index</i></th><th>value</th></tr></thead><tbody><tr><td>0</td><td>[  ]</td></tr></tbody></table></td></tr></tbody></table></div></details></td></tr></tbody></table></div></details></td></tr><tr><td><i>(values)</i></td><td><div class=\"dni-plaintext\"><pre>[  ]</pre></div></td></tr></tbody></table></div></details></td></tr></tbody></table></div></details></td></tr><tr><td>Item2</td><td><div class=\"dni-plaintext\"><pre>de34d611-e791-4110-b951-3eb009783992</pre></div></td></tr></tbody></table></div></details></td></tr></tbody></table><style>\r\n",
       ".dni-code-hint {\r\n",
       "    font-style: italic;\r\n",
       "    overflow: hidden;\r\n",
       "    white-space: nowrap;\r\n",
       "}\r\n",
       ".dni-treeview {\r\n",
       "    white-space: nowrap;\r\n",
       "}\r\n",
       ".dni-treeview td {\r\n",
       "    vertical-align: top;\r\n",
       "    text-align: start;\r\n",
       "}\r\n",
       "details.dni-treeview {\r\n",
       "    padding-left: 1em;\r\n",
       "}\r\n",
       "table td {\r\n",
       "    text-align: start;\r\n",
       "}\r\n",
       "table tr { \r\n",
       "    vertical-align: top; \r\n",
       "    margin: 0em 0px;\r\n",
       "}\r\n",
       "table tr td pre \r\n",
       "{ \r\n",
       "    vertical-align: top !important; \r\n",
       "    margin: 0em 0px !important;\r\n",
       "} \r\n",
       "table th {\r\n",
       "    text-align: start;\r\n",
       "}\r\n",
       "</style>"
      ]
     },
     "metadata": {},
     "output_type": "display_data"
    }
   ],
   "source": [
    "// Writing these using the f# query syntax because why not try it out.\n",
    "\n",
    "let entitiesToFind =\n",
    "    query {\n",
    "        for entity in dedupedDataset do\n",
    "        where (entity.SourceEntries |> Seq.exists (fun sourceEntry -> sourceEntry.Relations.Length > 1))\n",
    "        select entity.Relations\n",
    "        head\n",
    "    }\n",
    "\n",
    "let entitiesFromRelations =\n",
    "    query {\n",
    "        for entity in dedupedDataset do\n",
    "        leftOuterJoin relation in entitiesToFind on (entity.Id = relation) into results\n",
    "        for result in results do\n",
    "        where (result <> Guid.Empty) // I dislike that it's the default (Guid.Empty) and not null/none\n",
    "        select (entity, result)\n",
    "        distinct\n",
    "    }\n",
    "\n",
    "// Test successful, able to retreive two entries from a record with multiple relations.\n",
    "entitiesFromRelations"
   ]
  },
  {
   "cell_type": "markdown",
   "metadata": {},
   "source": [
    "## Dedupe on link\n",
    "\n",
    "> TODO: Do something intellegent to check if the base url is the same, and if they are, deduplicate it!"
   ]
  }
 ],
 "metadata": {
  "kernelspec": {
   "display_name": ".NET (C#)",
   "language": "C#",
   "name": ".net-csharp"
  },
  "language_info": {
   "name": "python"
  },
  "polyglot_notebook": {
   "kernelInfo": {
    "defaultKernelName": "csharp",
    "items": [
     {
      "aliases": [],
      "name": "csharp"
     }
    ]
   }
  }
 },
 "nbformat": 4,
 "nbformat_minor": 2
}
