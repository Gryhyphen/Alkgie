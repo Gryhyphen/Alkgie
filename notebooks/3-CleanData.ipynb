{
 "cells": [
  {
   "cell_type": "markdown",
   "metadata": {},
   "source": [
    "# Clean data\n",
    "\n",
    "In this notebook, we are cleaning the data and converting it into AlkgieV1 Entities.\n",
    "\n",
    "This step is important in generating ids and further processing the data into a coherent set of domain specific entities that the Alkgie project can use."
   ]
  },
  {
   "cell_type": "markdown",
   "metadata": {},
   "source": [
    "## Flatten the data"
   ]
  },
  {
   "cell_type": "code",
   "execution_count": 1,
   "metadata": {
    "dotnet_interactive": {
     "language": "fsharp"
    },
    "polyglot_notebook": {
     "kernelName": "fsharp"
    },
    "vscode": {
     "languageId": "polyglot-notebook"
    }
   },
   "outputs": [
    {
     "data": {
      "text/html": [
       "<div><div></div><div></div><div><strong>Installed Packages</strong><ul><li><span>FSharp.Data, 6.4.0</span></li></ul></div></div>"
      ]
     },
     "metadata": {},
     "output_type": "display_data"
    }
   ],
   "source": [
    "#r \"nuget:FSharp.Data\"\n",
    "\n",
    "open FSharp.Data\n",
    "type ScrappedData = JsonProvider<\"../data/scrapped/scrapped-dataset.json\">\n",
    "let datasets = ScrappedData.Load(\"../data/scrapped/scrapped-dataset.json\")\n",
    "\n",
    "type FlattenedData = {\n",
    "    Link: Option<string>\n",
    "    Name: Option<string>\n",
    "    Description: string\n",
    "    Headers: string[]\n",
    "    AwesomeList: string\n",
    "}\n",
    "\n",
    "let flattenedData = \n",
    "    datasets\n",
    "    |> Seq.collect (fun dataset ->\n",
    "        dataset.Data\n",
    "        |> Seq.map (fun item -> \n",
    "            {\n",
    "                Link = item.Link\n",
    "                Name = item.Name\n",
    "                Description = item.Description\n",
    "                Headers = item.Headers\n",
    "                AwesomeList = dataset.Filename\n",
    "            }\n",
    "        )\n",
    "    )\n",
    "    |> Seq.toList\n",
    "\n",
    "open System.IO\n",
    "open System.Text.Json\n",
    "let flattenedDataAsJson = JsonSerializer.Serialize(flattenedData);\n"
   ]
  },
  {
   "cell_type": "code",
   "execution_count": 2,
   "metadata": {
    "dotnet_interactive": {
     "language": "csharp"
    },
    "polyglot_notebook": {
     "kernelName": "csharp"
    },
    "vscode": {
     "languageId": "polyglot-notebook"
    }
   },
   "outputs": [
    {
     "data": {
      "text/html": [
       "<div><div></div><div></div><div><strong>Installed Packages</strong><ul><li><span>Newtonsoft.Json, 13.0.3</span></li></ul></div></div>"
      ]
     },
     "metadata": {},
     "output_type": "display_data"
    }
   ],
   "source": [
    "#!set --value @fsharp:flattenedDataAsJson --name flattenedData\n",
    "\n",
    "#r \"nuget: Newtonsoft.Json, 13.0.3\"\n",
    "using Newtonsoft.Json;\n",
    "using Newtonsoft.Json.Linq;\n",
    "\n",
    "var sourceEntries =\n",
    "    from d in JArray.Parse(flattenedData)\n",
    "    select new {\n",
    "        Id = Guid.NewGuid(),\n",
    "        SourceName = (string)d[\"AwesomeList\"],\n",
    "        EntityNameAlias = (string)d[\"Name\"],\n",
    "        Description = (string)d[\"Description\"],\n",
    "        Url = (string)d[\"Link\"],\n",
    "        Relations = d[\"Headers\"].Values<string>()\n",
    "    };\n",
    "\n",
    "\n",
    "// Generate an entity for each source entry, giving each entry an id\n",
    "// (deduplication occurs in the step 4 notebook)\n",
    "var partialEntities =\n",
    "    from se in sourceEntries\n",
    "    select new {\n",
    "        Id = Guid.NewGuid(),\n",
    "        DisplayName = se.EntityNameAlias,\n",
    "        SourceEntries = new[] { se },\n",
    "        EntityType = \"TODO\",\n",
    "    } into partialEntity\n",
    "    select partialEntity;\n",
    "\n",
    "// Calculate the relationships between entities\n",
    "var relationships =\n",
    "    from pe in partialEntities\n",
    "    from se in pe.SourceEntries\n",
    "    from r in se.Relations\n",
    "    join p in partialEntities on r equals p.DisplayName\n",
    "    select new {\n",
    "        Key = new {\n",
    "            SourceName = se.SourceName,\n",
    "            RelationshipName = p.DisplayName\n",
    "        },\n",
    "        RelationshipId = p.Id,\n",
    "    };\n",
    "\n",
    "// Today I learned that you can't override types using the \"with\" syntax, and you have\n",
    "// to preserve the original type. Therefore I need to specify the creation of an entirely new anon object\n",
    "// fully to correctly implement\n",
    "var entitiesWithCompleteRelationships =\n",
    "    from pe in partialEntities\n",
    "    select new {\n",
    "        Id = pe.Id,\n",
    "        DisplayName = pe.DisplayName,\n",
    "        EntityType = pe.EntityType,\n",
    "        SourceEntries =\n",
    "            from se in pe.SourceEntries\n",
    "            select new {\n",
    "                Id = se.Id,\n",
    "                SourceName = se.SourceName,\n",
    "                EntityNameAlias = se.EntityNameAlias,\n",
    "                Description = se.Description,\n",
    "                Url = se.Url,\n",
    "                Relations = \n",
    "                    from rel in relationships\n",
    "                    where rel.Key.SourceName == se.SourceName && rel.Key.RelationshipName == se.EntityNameAlias\n",
    "                    select rel.RelationshipId\n",
    "            }\n",
    "    };\n",
    "\n",
    "// Calculate the entity types using the relationship count\n",
    "var entitiesWithEntityTypes =\n",
    "    from e in entitiesWithCompleteRelationships\n",
    "    select e with {\n",
    "        EntityType = relationships.Any(x => x.RelationshipId == e.Id) ? \"Theme\" : \"Code\"\n",
    "    };\n",
    "\n",
    "\n",
    "var entities = JsonConvert.SerializeObject(entitiesWithEntityTypes.ToList(), Formatting.Indented);"
   ]
  },
  {
   "cell_type": "markdown",
   "metadata": {},
   "source": [
    "## Save cleaned data\n",
    "\n",
    "Saving the results of data cleaning"
   ]
  },
  {
   "cell_type": "code",
   "execution_count": 3,
   "metadata": {
    "dotnet_interactive": {
     "language": "fsharp"
    },
    "polyglot_notebook": {
     "kernelName": "fsharp"
    },
    "vscode": {
     "languageId": "polyglot-notebook"
    }
   },
   "outputs": [],
   "source": [
    "#!set --value @csharp:entities --name entities\n",
    "\n",
    "// Actual saving\n",
    "open System.IO\n",
    "\n",
    "let filePath = \"../data/cleaned/cleaned-dataset.json\"\n",
    "\n",
    "let directoryPath = Path.GetDirectoryName(filePath)\n",
    "if not <| Directory.Exists(directoryPath) then\n",
    "    Directory.CreateDirectory(directoryPath) |> ignore\n",
    "\n",
    "File.WriteAllText(filePath, entities)"
   ]
  }
 ],
 "metadata": {
  "kernelspec": {
   "display_name": ".NET (C#)",
   "language": "C#",
   "name": ".net-csharp"
  },
  "language_info": {
   "name": "python"
  },
  "polyglot_notebook": {
   "kernelInfo": {
    "defaultKernelName": "csharp",
    "items": [
     {
      "aliases": [],
      "name": "csharp"
     }
    ]
   }
  }
 },
 "nbformat": 4,
 "nbformat_minor": 2
}
