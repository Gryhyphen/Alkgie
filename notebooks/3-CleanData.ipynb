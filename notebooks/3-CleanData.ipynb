{
 "cells": [
  {
   "cell_type": "markdown",
   "metadata": {},
   "source": [
    "# Clean data\n",
    "\n",
    "In this notebook, we are cleaning the data and converting it into AlkgieV1 Entities.\n",
    "\n",
    "This step is important in generating ids and further processing the data into a coherent set of domain specific entities that the Alkgie project can use."
   ]
  },
  {
   "cell_type": "markdown",
   "metadata": {},
   "source": [
    "## Flatten the data"
   ]
  },
  {
   "cell_type": "code",
   "execution_count": 1,
   "metadata": {
    "dotnet_interactive": {
     "language": "fsharp"
    },
    "polyglot_notebook": {
     "kernelName": "fsharp"
    },
    "vscode": {
     "languageId": "polyglot-notebook"
    }
   },
   "outputs": [
    {
     "data": {
      "text/html": [
       "<div><div></div><div></div><div><strong>Installed Packages</strong><ul><li><span>FSharp.Data, 6.4.0</span></li></ul></div></div>"
      ]
     },
     "metadata": {},
     "output_type": "display_data"
    }
   ],
   "source": [
    "#r \"nuget:FSharp.Data\"\n",
    "\n",
    "open FSharp.Data\n",
    "type ScrappedData = JsonProvider<\"../data/scrapped/scrapped-dataset.json\">\n",
    "let datasets = ScrappedData.Load(\"../data/scrapped/scrapped-dataset.json\")\n",
    "\n",
    "type FlattenedData = {\n",
    "    Link: Option<string>\n",
    "    Name: Option<string>\n",
    "    Description: string\n",
    "    Headers: string[]\n",
    "    AwesomeList: string\n",
    "}\n",
    "\n",
    "let flattenedData = \n",
    "    datasets\n",
    "    |> Seq.collect (fun dataset ->\n",
    "        dataset.Data\n",
    "        |> Seq.map (fun item -> \n",
    "            {\n",
    "                Link = item.Link\n",
    "                Name = item.Name\n",
    "                Description = item.Description\n",
    "                Headers = item.Headers\n",
    "                AwesomeList = dataset.Filename\n",
    "            }\n",
    "        )\n",
    "    )\n",
    "    |> Seq.toList\n",
    "\n",
    "open System.IO\n",
    "open System.Text.Json\n",
    "let flattenedDataAsJson = JsonSerializer.Serialize(flattenedData);\n"
   ]
  },
  {
   "cell_type": "code",
   "execution_count": 21,
   "metadata": {
    "dotnet_interactive": {
     "language": "csharp"
    },
    "polyglot_notebook": {
     "kernelName": "csharp"
    },
    "vscode": {
     "languageId": "polyglot-notebook"
    }
   },
   "outputs": [
    {
     "data": {
      "text/html": [
       "<div><div></div><div></div><div><strong>Installed Packages</strong><ul><li><span>Newtonsoft.Json, 13.0.3</span></li></ul></div></div>"
      ]
     },
     "metadata": {},
     "output_type": "display_data"
    }
   ],
   "source": [
    "#!set --value @fsharp:flattenedDataAsJson --name flattenedData\n",
    "\n",
    "#r \"nuget: Newtonsoft.Json, 13.0.3\"\n",
    "using Newtonsoft.Json;\n",
    "using Newtonsoft.Json.Linq;\n",
    "\n",
    "var sourceEntries =\n",
    "    from d in JArray.Parse(flattenedData)\n",
    "    select new {\n",
    "        Id = Guid.NewGuid(),\n",
    "        SourceName = (string)d[\"AwesomeList\"],\n",
    "        EntityNameAlias = (string)d[\"Name\"],\n",
    "        Description = (string)d[\"Description\"],\n",
    "        Url = (string)d[\"Link\"],\n",
    "        Relations = d[\"Headers\"].Values<string>()\n",
    "    };\n",
    "\n",
    "// Generate an entity for each source entry, giving each entry an id\n",
    "// (deduplication occurs in the step 4 notebook)\n",
    "var partialEntities =\n",
    "    from se in sourceEntries\n",
    "    select new {\n",
    "        Id = Guid.NewGuid(),\n",
    "        DisplayName = se.EntityNameAlias,\n",
    "        SourceEntries = new[] { se },\n",
    "        EntityType = \"TODO\",\n",
    "    } into partialEntity\n",
    "    select partialEntity;\n",
    "\n",
    "// Calculate the relationships between entities\n",
    "var relationships =\n",
    "    from pe in partialEntities\n",
    "    from se in pe.SourceEntries\n",
    "    from r in se.Relations\n",
    "    join p in partialEntities on r equals p.DisplayName\n",
    "    select new {\n",
    "        Key = new {\n",
    "            SourceEntryId = se.Id,\n",
    "            RelationshipName = p.DisplayName\n",
    "        },\n",
    "        RelationshipId = p.Id,\n",
    "    };\n",
    "\n",
    "// Today I learned that you can't override types using the \"with\" syntax, and you have\n",
    "// to preserve the original type. Therefore I need to specify the creation of an entirely new anon object\n",
    "// fully to correctly implement\n",
    "var entitiesWithCompleteRelationships =\n",
    "    from pe in partialEntities\n",
    "    select new {\n",
    "        Id = pe.Id,\n",
    "        DisplayName = pe.DisplayName,\n",
    "        EntityType = pe.EntityType,\n",
    "        SourceEntries =\n",
    "            from se in pe.SourceEntries\n",
    "            select new {\n",
    "                Id = se.Id,\n",
    "                SourceName = se.SourceName,\n",
    "                EntityNameAlias = se.EntityNameAlias,\n",
    "                Description = se.Description,\n",
    "                Url = se.Url,\n",
    "                Relations = \n",
    "                    from r in se.Relations\n",
    "                    join rel in relationships on new {SourceEntryId = se.Id, RelationshipName = r} equals rel.Key \n",
    "                    select rel.RelationshipId\n",
    "            }\n",
    "    };\n",
    "\n",
    "// Calculate the entity types using the relationship count\n",
    "var entitiesWithEntityTypes =\n",
    "    from e in entitiesWithCompleteRelationships\n",
    "    select e with {\n",
    "        EntityType = relationships.Any(x => x.RelationshipId == e.Id) ? \"Theme\" : \"Entity\"\n",
    "    };\n",
    "\n",
    "\n",
    "\n",
    "\n",
    "/**\n",
    "\n",
    "var entities =\n",
    "    from pe in partialEntities\n",
    "    select new {\n",
    "        Id = pe.Id,\n",
    "        DisplayName = pe.DisplayName,\n",
    "        EntityType = pe.EntityType,\n",
    "        SourceEntries = \n",
    "            from se in pe.SourceEntries\n",
    "            let relatedIds = \n",
    "                from r in se.Relations\n",
    "                // Assuming DisplayName can be used as a proxy for EntityNameAlias in the relation mapping\n",
    "                join p in partialEntities on r equals p.DisplayName \n",
    "                where p.SourceEntries.Any(x => x.EntityNameAlias == r && x.SourceName == se.SourceName)\n",
    "                select p.Id\n",
    "            select new {\n",
    "                Id = se.Id,\n",
    "                SourceName = se.SourceName,\n",
    "                EntityNameAlias = se.EntityNameAlias,\n",
    "                Description = se.Description,\n",
    "                Url = se.Url,\n",
    "                Relations = relatedIds.ToList() // Materialize the query to a list\n",
    "            }\n",
    "    };\n",
    "\n",
    "var entities2 =\n",
    "    from pe in partialEntities\n",
    "    let relatedIds = (\n",
    "        from se in pe.SourceEntries\n",
    "        from r in se.Relations\n",
    "        join p in partialEntities on r equals p.DisplayName\n",
    "        where p.SourceEntries.Any(x => x.EntityNameAlias == r && x.SourceName == se.SourceName)\n",
    "        select p.Id\n",
    "    ).Distinct() // Ensure uniqueness if needed\n",
    "    select new {\n",
    "        Id = pe.Id,\n",
    "        DisplayName = pe.DisplayName,\n",
    "        EntityType = pe.EntityType,\n",
    "        SourceEntries = \n",
    "            from se in pe.SourceEntries\n",
    "            select new {\n",
    "                Current = se,\n",
    "                Relations = relatedIds.Where(id => se.Relations.Contains(partialEntities.FirstOrDefault(p => p.Id == id)?.DisplayName)).ToList()\n",
    "            }\n",
    "    };\n",
    "\n",
    "\n",
    "*/\n",
    "\n",
    "    /*\n",
    "var entities =\n",
    "from se in sourceEntries\n",
    "    let partialEntity = new {\n",
    "        Id = Guid.NewGuid(),\n",
    "        DisplayName = se.EntityNameAlias,\n",
    "        SourceEntries = se,\n",
    "        EntityType = \"TODO\",\n",
    "        Relations = se.Relations\n",
    "    }\n",
    "    select partialEntity;\n",
    "    */\n",
    "\n",
    "\n",
    "/*\n",
    "var entities =\n",
    "    from se in sourceEntries\n",
    "    from r in se.Relations\n",
    "    select new {\n",
    "        \n",
    "    }\n",
    "    from se in sourceEntries\n",
    "    select new {\n",
    "        current = se,\n",
    "        relationIds = se.Relations\n",
    "        \n",
    "        \n",
    "        \n",
    "        se.Relations.Select(r => new {\n",
    "            Id = Guid.NewGuid(),\n",
    "            SourceName = se.SourceName,\n",
    "            EntityNameAlias = r,\n",
    "            Description = \"\",\n",
    "            Url = \"\"\n",
    "        })\n",
    "    };\n",
    "/*\n",
    "\n",
    "p\n",
    "var sourceEntries = \n",
    "    from d in flattenedData\n",
    "    select new {\n",
    "        Id = Guid.NewGuid(),\n",
    "        SourceName = d.AwesomeList,\n",
    "        EntityNameAlias = d.Name,\n",
    "        Description = d.Description,\n",
    "        Url = d.Link\n",
    "    };\n",
    "    */\n",
    "\n",
    "\n",
    "//var result = \n",
    "//    from p in flattenedData\n",
    "//    group p by p.Category into g\n",
    "//    where g.All(p => p.UnitsInStock > 0)\n",
    "//    select (Category: g.Key, Products: g);\n",
    "\n",
    "//var apples = csVarFromFs;"
   ]
  },
  {
   "cell_type": "markdown",
   "metadata": {},
   "source": [
    "## Transform flattened data into AlkgieV1 entities.\n",
    "\n",
    "AlkgieV1 entities is the name I'm giving to the data format / schema that this project produces. It's not a final format, hence the V1.\n",
    "\n",
    "Borrowing inspiration from thematic analysis, these entities define their names as \"codes\", as in an identified code in thematic analysis.\n",
    "\n",
    "Themes are groupings of codes that form a cohesive whole.\n",
    "\n",
    "In most instances I expect codes to be specific software products such as programming lanugages (like f#, javascript), whereas I expect themes to be more related to concepts (such as the concept of programming languages itself).\n",
    "\n",
    "We are also assigning an unique Id at this stage to make it easier to graph things. These Ids are non-stable between versions of the dataset. Hopefully a future version of this project will find a way to keep ids stable between versions.\n",
    "\n",
    "So essentially this is the Relationship Classification (RC) stage of this data analysis project."
   ]
  },
  {
   "cell_type": "code",
   "execution_count": 3,
   "metadata": {
    "dotnet_interactive": {
     "language": "fsharp"
    },
    "polyglot_notebook": {
     "kernelName": "fsharp"
    },
    "vscode": {
     "languageId": "polyglot-notebook"
    }
   },
   "outputs": [],
   "source": [
    "type AlkgieV1EntityTypes =\n",
    "    | Theme\n",
    "    | Code\n",
    "\n",
    "type AlkgieV1SourceEntry = {\n",
    "    Id: Guid\n",
    "    SourceName: string\n",
    "    EntityNameAlias: Option<string>\n",
    "    Description: string\n",
    "    Url: Option<string>\n",
    "    Relations: Guid[]\n",
    "    // TODO: may want to add metadata like date project was created, to compare timelines\n",
    "}\n",
    "\n",
    "type AlkgieV1Entity = {\n",
    "    Id: Guid\n",
    "    // DisplayName is the display name that will be priortized when displaying the entity\n",
    "    // However the SourceEntries could contain aliases\n",
    "    DisplayName: string\n",
    "    // Source entries provide data for the entity aggregated from different sources.\n",
    "    SourceEntries: AlkgieV1SourceEntry[]\n",
    "    // TODO: If I allow source entries to have entitytype, then it might make it easier\n",
    "    ///      To distinguish between when talking about something as a concept vs something as a code.\n",
    "    //       YAGNI for now, but it might be useful in the future. Might write up a card on the github.\n",
    "    EntityType: AlkgieV1EntityTypes\n",
    "}\n",
    "\n",
    "// Convert into source entries and generate source entry ids\n",
    "let sourceEntries =\n",
    "    flattenedData\n",
    "    |> Seq.map (fun item -> \n",
    "        {\n",
    "            Id = Guid.NewGuid()\n",
    "            SourceName = item.AwesomeList\n",
    "            EntityNameAlias = item.Name\n",
    "            Description = item.Description\n",
    "            Url = item.Link\n",
    "            Relations = [||]\n",
    "        }\n",
    "    )\n",
    "\n",
    "// Helper function to determine entity type\n",
    "let getEntityType source name =\n",
    "    match name with\n",
    "    | None -> Code\n",
    "    | Some actualName ->\n",
    "        flattenedData\n",
    "        |> Seq.exists (fun item -> item.AwesomeList = source && item.Headers |> Seq.contains actualName)\n",
    "        |> function| true -> Theme | false -> Code\n",
    "\n",
    "// Convert into entities and generate entity ids\n",
    "let entitiesWithoutRelationships =\n",
    "    sourceEntries\n",
    "    |> Seq.map (fun item ->\n",
    "        let name = match item.EntityNameAlias with | Some name -> name | None -> \"MISSING DISPLAY NAME\"\n",
    "        {\n",
    "            Id = Guid.NewGuid()\n",
    "            DisplayName = name\n",
    "            SourceEntries = [|item|]\n",
    "            EntityType = getEntityType item.SourceName item.EntityNameAlias\n",
    "        }\n",
    "    )\n",
    "    |> Seq.toList\n",
    "\n",
    "// Helper to get relations for sourceName and entityNameAlias pair\n",
    "let getRelations sourceName entityNameAlias =\n",
    "    let headers =\n",
    "        flattenedData\n",
    "        |> Seq.filter (fun item -> item.AwesomeList = sourceName && item.Name = entityNameAlias)\n",
    "        |> Seq.collect (fun item -> item.Headers) // Use Seq.collect to flatten the sequences of headers into a single sequence\n",
    "\n",
    "    let headerEntities =\n",
    "        entitiesWithoutRelationships\n",
    "        |> Seq.filter (fun entity -> entity.SourceEntries |> Seq.exists (fun entry -> entry.SourceName = sourceName))\n",
    "        |> Seq.filter (fun entity -> entity.SourceEntries |> Seq.exists (fun entry -> headers |> Seq.contains entity.DisplayName))\n",
    "    \n",
    "    headerEntities\n",
    "\n",
    "let getRelationIds sourceName entityNameAlias =\n",
    "    getRelations sourceName entityNameAlias\n",
    "    |> Seq.map (fun entity -> entity.Id)\n",
    "    |> Seq.toArray\n",
    "\n",
    "// Generate complete entities with relationships\n",
    "let entities =\n",
    "    entitiesWithoutRelationships\n",
    "    |> Seq.map (fun entity ->\n",
    "        {\n",
    "            Id = entity.Id\n",
    "            DisplayName = entity.DisplayName\n",
    "            EntityType = entity.EntityType\n",
    "            SourceEntries = \n",
    "                entity.SourceEntries\n",
    "                |> Seq.map (fun entry -> { entry with Relations = getRelationIds entry.SourceName entry.EntityNameAlias })\n",
    "                |> Seq.toArray\n",
    "        }\n",
    "    )"
   ]
  },
  {
   "cell_type": "markdown",
   "metadata": {},
   "source": [
    "## Save cleaned data\n",
    "\n",
    "Saving the results of data cleaning"
   ]
  },
  {
   "cell_type": "code",
   "execution_count": 4,
   "metadata": {
    "dotnet_interactive": {
     "language": "fsharp"
    },
    "polyglot_notebook": {
     "kernelName": "fsharp"
    },
    "vscode": {
     "languageId": "polyglot-notebook"
    }
   },
   "outputs": [],
   "source": [
    "\n",
    "// This is a temporary hack to get around not being able to seralize Discriminated Unions\n",
    "let entityTypeToString entityType =\n",
    "    match entityType with\n",
    "    | Theme -> \"Theme\"\n",
    "    | Code -> \"Code\"\n",
    "\n",
    "let temp =\n",
    "    entities\n",
    "    |> Seq.map( fun entity -> {|entity with EntityType = entityTypeToString entity.EntityType|})\n",
    "\n",
    "\n",
    "// Actual saving\n",
    "open System.IO\n",
    "open System.Text.Json\n",
    "\n",
    "let filePath = \"../data/cleaned/cleaned-dataset.json\"\n",
    "let json = JsonSerializer.Serialize(temp, JsonSerializerOptions(WriteIndented = true))\n",
    "\n",
    "let directoryPath = Path.GetDirectoryName(filePath)\n",
    "if not <| Directory.Exists(directoryPath) then\n",
    "    Directory.CreateDirectory(directoryPath) |> ignore\n",
    "\n",
    "File.WriteAllText(filePath, json)"
   ]
  },
  {
   "cell_type": "code",
   "execution_count": 13,
   "metadata": {
    "dotnet_interactive": {
     "language": "csharp"
    },
    "polyglot_notebook": {
     "kernelName": "csharp"
    },
    "vscode": {
     "languageId": "polyglot-notebook"
    }
   },
   "outputs": [],
   "source": [
    "#!set --byref --value @fsharp:flattenedData --name flattenedData\n",
    "\n",
    "var fishCrab = flattenedData;"
   ]
  }
 ],
 "metadata": {
  "kernelspec": {
   "display_name": ".NET (C#)",
   "language": "C#",
   "name": ".net-csharp"
  },
  "language_info": {
   "name": "python"
  },
  "polyglot_notebook": {
   "kernelInfo": {
    "defaultKernelName": "csharp",
    "items": [
     {
      "aliases": [],
      "name": "csharp"
     }
    ]
   }
  }
 },
 "nbformat": 4,
 "nbformat_minor": 2
}
