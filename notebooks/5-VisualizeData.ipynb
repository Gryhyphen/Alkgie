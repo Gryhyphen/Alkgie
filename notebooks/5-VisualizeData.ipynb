{
 "cells": [
  {
   "cell_type": "markdown",
   "metadata": {
    "dotnet_interactive": {
     "language": "csharp"
    },
    "polyglot_notebook": {
     "kernelName": "csharp"
    }
   },
   "source": [
    "# Visualize the data\n",
    "\n",
    "In this notebook, will construct a graph to visualize the data."
   ]
  },
  {
   "cell_type": "markdown",
   "metadata": {},
   "source": [
    "## Import the data\n",
    "\n",
    "Importing the data using f# because I dunno how to access the filesystem with javascript."
   ]
  },
  {
   "cell_type": "code",
   "execution_count": 12,
   "metadata": {
    "dotnet_interactive": {
     "language": "fsharp"
    },
    "polyglot_notebook": {
     "kernelName": "fsharp"
    },
    "vscode": {
     "languageId": "polyglot-notebook"
    }
   },
   "outputs": [
    {
     "data": {
      "text/html": [
       "<div><div></div><div></div><div><strong>Installed Packages</strong><ul><li><span>FSharp.Data, 6.4.0</span></li></ul></div></div>"
      ]
     },
     "metadata": {},
     "output_type": "display_data"
    }
   ],
   "source": [
    "type AlkgieV1SourceEntry = {\n",
    "    Id: Guid\n",
    "    SourceName: string\n",
    "    EntityNameAlias: Option<string>\n",
    "    Description: Option<string>\n",
    "    Url: Option<string>\n",
    "    Relations: Guid[]\n",
    "}\n",
    "\n",
    "type AlkgieV1Entity =\n",
    "    {\n",
    "        Id: Guid\n",
    "        DisplayName: string\n",
    "        SourceEntries: AlkgieV1SourceEntry[]\n",
    "        EntityType: string // Changing this from a discriminated union to a string because can't serailize discriminated unions to Javascript\n",
    "    }\n",
    "\n",
    "#r \"nuget:FSharp.Data\"\n",
    "\n",
    "open FSharp.Data\n",
    "\n",
    "type DedupedData = JsonProvider<\"../data/deduped/deduped-dataset.json\">\n",
    "\n",
    "let dedupedData : AlkgieV1Entity[] =\n",
    "    DedupedData.Load(\"../data/deduped/deduped-dataset.json\")\n",
    "    |> Seq.map (fun x -> \n",
    "        { \n",
    "            Id = x.Id\n",
    "            DisplayName = x.DisplayName\n",
    "            SourceEntries = \n",
    "                x.SourceEntries |> Seq.map (fun se -> \n",
    "                    {\n",
    "                        SourceName = se.SourceName\n",
    "                        Id = se.Id\n",
    "                        EntityNameAlias = se.EntityNameAlias\n",
    "                        Description = se.Description\n",
    "                        Url = se.Url\n",
    "                        Relations = se.Relations |> Seq.toArray\n",
    "                    }) |> Seq.toArray\n",
    "            EntityType = x.EntityType \n",
    "        }) |> Seq.toArray\n"
   ]
  },
  {
   "cell_type": "markdown",
   "metadata": {},
   "source": [
    "### Define some javascript resources\n",
    "\n",
    "Imports and helper functions to make coding in javascript easier inside of this notebook.\n",
    "\n",
    "The circular replacer makes it so that javascript objects can be serialized even when they are recursive, which helps with debugging.\n",
    "Using cheerio and marked, both javascript packages, parse the content into a queryable tree."
   ]
  },
  {
   "cell_type": "code",
   "execution_count": 16,
   "metadata": {
    "dotnet_interactive": {
     "language": "javascript"
    },
    "polyglot_notebook": {
     "kernelName": "javascript"
    },
    "vscode": {
     "languageId": "polyglot-notebook"
    }
   },
   "outputs": [],
   "source": [
    "echarts = await import('https://cdnjs.cloudflare.com/ajax/libs/echarts/5.4.3/echarts.esm.min.js');\n",
    "\n",
    "getCircularReplacer = function () {\n",
    "    const ancestors = [];\n",
    "    return function (key, value) {\n",
    "      if (typeof value !== \"object\" || value === null) {\n",
    "        return value;\n",
    "      }\n",
    "      // `this` is the object that value is contained in,\n",
    "      // i.e., its direct parent.\n",
    "      while (ancestors.length > 0 && ancestors.at(-1) !== this) {\n",
    "        ancestors.pop();\n",
    "      }\n",
    "      if (ancestors.includes(value)) {\n",
    "        return \"[Circular]\";\n",
    "      }\n",
    "      ancestors.push(value);\n",
    "      return value;\n",
    "    };\n",
    "  }"
   ]
  },
  {
   "cell_type": "markdown",
   "metadata": {},
   "source": [
    "## Render the graph\n",
    "\n",
    "First we will render the html which we will use to register our charts, then in a separate cell we will initialize the graph using echarts."
   ]
  },
  {
   "cell_type": "code",
   "execution_count": 17,
   "metadata": {
    "dotnet_interactive": {
     "language": "html"
    },
    "polyglot_notebook": {
     "kernelName": "html"
    },
    "vscode": {
     "languageId": "polyglot-notebook"
    }
   },
   "outputs": [
    {
     "data": {
      "text/html": [
       "<code id=\"fakeConsole\"></code>\n",
       "<div style=\"margin: 20px; display: flex;\">\n",
       "    <div id=\"main\" style=\"width: 1200px;height:600px; background: purple;\"></div>\n",
       "</div>"
      ]
     },
     "metadata": {},
     "output_type": "display_data"
    }
   ],
   "source": [
    "<code id=\"fakeConsole\"></code>\n",
    "<div style=\"margin: 20px; display: flex;\">\n",
    "    <div id=\"main\" style=\"width: 1200px;height:600px; background: purple;\"></div>\n",
    "</div>"
   ]
  },
  {
   "cell_type": "markdown",
   "metadata": {},
   "source": [
    "Add interactivity to the chart. Note sometimes this code fails as it runs before the html dom has time to load. If the chart above is still just a purple square, try re-running the below cell. :)"
   ]
  },
  {
   "cell_type": "code",
   "execution_count": 18,
   "metadata": {
    "dotnet_interactive": {
     "language": "javascript"
    },
    "polyglot_notebook": {
     "kernelName": "javascript"
    },
    "vscode": {
     "languageId": "polyglot-notebook"
    }
   },
   "outputs": [],
   "source": [
    "#!set --value @fsharp:dedupedData --name dedupedData\n",
    "\n",
    "// Create the ECharts instance\n",
    "const myChart = echarts.init(document.getElementById('main'), 'dark');\n",
    "\n",
    "// Define transformations\n",
    "function getNode(data, i) {\n",
    "    return {\n",
    "        id: data.Id,\n",
    "        name: data.DisplayName,\n",
    "        x: i,\n",
    "        y: i,\n",
    "        label: {\n",
    "            show: true//data.EntityType === 'Theme'\n",
    "        },\n",
    "        itemStyle: {\n",
    "            color: data.EntityType === 'Theme' ? 'red' : 'blue'\n",
    "        },\n",
    "        draggable: true\n",
    "    }\n",
    "}\n",
    "\n",
    "function getEdges(data) {\n",
    "    const sourceEntries = data.SourceEntries;\n",
    "    const relations = sourceEntries.map(entry => entry.Relations);\n",
    "    return relations.flat().map(relation => {\n",
    "        return {\n",
    "            source: data.Id,\n",
    "            target: relation\n",
    "        }\n",
    "    });\n",
    "}\n",
    "\n",
    "// Define the data for nodes and edges\n",
    "const nodes = dedupedData.map(getNode); // remove theme filter to show all nodes\n",
    "const edges = dedupedData.flatMap(getEdges);\n",
    "\n",
    "\n",
    "// Create the option for the force-directed graph\n",
    "const option = {\n",
    "  tooltip: {},\n",
    "  series: [\n",
    "    {\n",
    "      type: 'graph',\n",
    "      layout: 'force',\n",
    "      data: nodes,\n",
    "      edges: edges,\n",
    "      roam: true,\n",
    "      force: {\n",
    "        repulsion: 100,\n",
    "        edgeLength: 100\n",
    "      },\n",
    "      label: {\n",
    "        position: 'right',\n",
    "        formatter: '{b}'\n",
    "      },\n",
    "    }\n",
    "  ]\n",
    "};\n",
    "\n",
    "// Set the option and render the chart\n",
    "myChart.setOption(option);\n"
   ]
  }
 ],
 "metadata": {
  "kernelspec": {
   "display_name": ".NET (C#)",
   "language": "C#",
   "name": ".net-csharp"
  },
  "language_info": {
   "name": "python"
  },
  "polyglot_notebook": {
   "kernelInfo": {
    "defaultKernelName": "csharp",
    "items": [
     {
      "aliases": [],
      "name": "csharp"
     }
    ]
   }
  }
 },
 "nbformat": 4,
 "nbformat_minor": 2
}
